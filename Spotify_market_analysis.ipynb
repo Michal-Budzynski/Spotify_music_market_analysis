{
 "cells": [
  {
   "cell_type": "markdown",
   "id": "39d49de2-7556-46bd-af96-b88cc8183c58",
   "metadata": {},
   "source": [
    "<font size=8><b><center> Analiza Rynku Muzycznego Spotify"
   ]
  },
  {
   "cell_type": "markdown",
   "id": "4da22f58-d930-4495-b607-f38039a4a1ff",
   "metadata": {},
   "source": [
    "# Wstęp\n",
    "Celem niniejszej analizy jest zbadanie charakterystycznych atrybutów utworów znajdujących się w listach przebojów Spotify oraz preferencji konsumentów. Badanie obejmuje lata 2020-2021. Całość analizy zaprezentowana jest w dokumencie PDF."
   ]
  },
  {
   "cell_type": "markdown",
   "id": "c1f46eef-1417-4be6-9465-4c83313040d3",
   "metadata": {},
   "source": [
    "# Importowanie bibliotek oraz pakietów"
   ]
  },
  {
   "cell_type": "code",
   "execution_count": 142,
   "id": "6906164b-698c-4e95-ba10-cb5fe81b8e87",
   "metadata": {},
   "outputs": [],
   "source": [
    "import seaborn as sns\n",
    "import matplotlib.pyplot as plt\n",
    "import pandas as pd\n",
    "import numpy as np\n",
    "from sklearn import cluster\n",
    "from sklearn.preprocessing import StandardScaler\n",
    "import statistics\n",
    "import warnings\n",
    "warnings.filterwarnings(\"ignore\")\n",
    "import statsmodels.formula.api as smf\n",
    "from statsmodels.stats.multicomp import pairwise_tukeyhsd\n",
    "import scipy.stats as stats"
   ]
  },
  {
   "cell_type": "markdown",
   "id": "5087573e-949f-4460-a1d2-cec458dabc97",
   "metadata": {},
   "source": [
    "# Przygotowanie danych\n",
    "Baza danych **Spotify_2020_2021** zawiera utwory, które w latach 2020-2021 przynajmniej raz\n",
    "wystąpiły w zestawieniu „Top 200 Weekly (Global)” tworzonym przez platformę Spotify.\n",
    "Powyższe zestawienie aktualizowane jest co tydzień i zawiera najczęściej odtwarzane utwory\n",
    "na Spotify w danym tygodniu. Baza danych została oczyszczona z duplikatów i braków\n",
    "danych, w wyniku czego pozostało 1543 obserwacji. Za obserwacje uznaje się utwór\n",
    "muzyczny."
   ]
  },
  {
   "cell_type": "code",
   "execution_count": 143,
   "id": "f14d6dab-bcf7-42a8-ade8-946911c504a2",
   "metadata": {},
   "outputs": [],
   "source": [
    "df4 = pd.read_csv(\"bazy_danych\\spotify_2020_2021.csv\")"
   ]
  },
  {
   "cell_type": "markdown",
   "id": "cd208d19-32aa-4088-a47a-be5b25573a45",
   "metadata": {},
   "source": [
    "te pozycje mają braki danych - usuwam je"
   ]
  },
  {
   "cell_type": "code",
   "execution_count": 144,
   "id": "b921d070-48a2-4268-ab07-a7c7165cd756",
   "metadata": {},
   "outputs": [
    {
     "data": {
      "text/html": [
       "<div>\n",
       "<style scoped>\n",
       "    .dataframe tbody tr th:only-of-type {\n",
       "        vertical-align: middle;\n",
       "    }\n",
       "\n",
       "    .dataframe tbody tr th {\n",
       "        vertical-align: top;\n",
       "    }\n",
       "\n",
       "    .dataframe thead th {\n",
       "        text-align: right;\n",
       "    }\n",
       "</style>\n",
       "<table border=\"1\" class=\"dataframe\">\n",
       "  <thead>\n",
       "    <tr style=\"text-align: right;\">\n",
       "      <th></th>\n",
       "      <th>Index</th>\n",
       "      <th>Highest Charting Position</th>\n",
       "      <th>Number of Times Charted</th>\n",
       "      <th>Week of Highest Charting</th>\n",
       "      <th>Song Name</th>\n",
       "      <th>Streams</th>\n",
       "      <th>Artist</th>\n",
       "      <th>Artist Followers</th>\n",
       "      <th>Song ID</th>\n",
       "      <th>Genre</th>\n",
       "      <th>...</th>\n",
       "      <th>Danceability</th>\n",
       "      <th>Energy</th>\n",
       "      <th>Loudness</th>\n",
       "      <th>Speechiness</th>\n",
       "      <th>Acousticness</th>\n",
       "      <th>Liveness</th>\n",
       "      <th>Tempo</th>\n",
       "      <th>Duration (ms)</th>\n",
       "      <th>Valence</th>\n",
       "      <th>Chord</th>\n",
       "    </tr>\n",
       "  </thead>\n",
       "  <tbody>\n",
       "    <tr>\n",
       "      <th>35</th>\n",
       "      <td>36</td>\n",
       "      <td>36</td>\n",
       "      <td>1</td>\n",
       "      <td>2021-07-23--2021-07-30</td>\n",
       "      <td>NOT SOBER (feat. Polo G &amp; Stunna Gambino)</td>\n",
       "      <td>11,869,336</td>\n",
       "      <td>The Kid LAROI</td>\n",
       "      <td></td>\n",
       "      <td></td>\n",
       "      <td></td>\n",
       "      <td>...</td>\n",
       "      <td></td>\n",
       "      <td></td>\n",
       "      <td></td>\n",
       "      <td></td>\n",
       "      <td></td>\n",
       "      <td></td>\n",
       "      <td></td>\n",
       "      <td></td>\n",
       "      <td></td>\n",
       "      <td></td>\n",
       "    </tr>\n",
       "    <tr>\n",
       "      <th>163</th>\n",
       "      <td>164</td>\n",
       "      <td>5</td>\n",
       "      <td>39</td>\n",
       "      <td>2020-10-30--2020-11-06</td>\n",
       "      <td>34+35</td>\n",
       "      <td>5,453,159</td>\n",
       "      <td>Ariana Grande</td>\n",
       "      <td></td>\n",
       "      <td></td>\n",
       "      <td></td>\n",
       "      <td>...</td>\n",
       "      <td></td>\n",
       "      <td></td>\n",
       "      <td></td>\n",
       "      <td></td>\n",
       "      <td></td>\n",
       "      <td></td>\n",
       "      <td></td>\n",
       "      <td></td>\n",
       "      <td></td>\n",
       "      <td></td>\n",
       "    </tr>\n",
       "    <tr>\n",
       "      <th>464</th>\n",
       "      <td>465</td>\n",
       "      <td>118</td>\n",
       "      <td>1</td>\n",
       "      <td>2021-03-26--2021-04-02</td>\n",
       "      <td>Richer (feat. Polo G)</td>\n",
       "      <td>6,292,362</td>\n",
       "      <td>Rod Wave</td>\n",
       "      <td></td>\n",
       "      <td></td>\n",
       "      <td></td>\n",
       "      <td>...</td>\n",
       "      <td></td>\n",
       "      <td></td>\n",
       "      <td></td>\n",
       "      <td></td>\n",
       "      <td></td>\n",
       "      <td></td>\n",
       "      <td></td>\n",
       "      <td></td>\n",
       "      <td></td>\n",
       "      <td></td>\n",
       "    </tr>\n",
       "    <tr>\n",
       "      <th>530</th>\n",
       "      <td>531</td>\n",
       "      <td>20</td>\n",
       "      <td>5</td>\n",
       "      <td>2021-01-15--2021-01-22</td>\n",
       "      <td>34+35 Remix (feat. Doja Cat, Megan Thee Stalli...</td>\n",
       "      <td>6,162,453</td>\n",
       "      <td>Ariana Grande</td>\n",
       "      <td></td>\n",
       "      <td></td>\n",
       "      <td></td>\n",
       "      <td>...</td>\n",
       "      <td></td>\n",
       "      <td></td>\n",
       "      <td></td>\n",
       "      <td></td>\n",
       "      <td></td>\n",
       "      <td></td>\n",
       "      <td></td>\n",
       "      <td></td>\n",
       "      <td></td>\n",
       "      <td></td>\n",
       "    </tr>\n",
       "    <tr>\n",
       "      <th>636</th>\n",
       "      <td>637</td>\n",
       "      <td>22</td>\n",
       "      <td>6</td>\n",
       "      <td>2020-12-18--2020-12-25</td>\n",
       "      <td>Driving Home for Christmas - 2019 Remaster</td>\n",
       "      <td>8,804,531</td>\n",
       "      <td>Chris Rea</td>\n",
       "      <td></td>\n",
       "      <td></td>\n",
       "      <td></td>\n",
       "      <td>...</td>\n",
       "      <td></td>\n",
       "      <td></td>\n",
       "      <td></td>\n",
       "      <td></td>\n",
       "      <td></td>\n",
       "      <td></td>\n",
       "      <td></td>\n",
       "      <td></td>\n",
       "      <td></td>\n",
       "      <td></td>\n",
       "    </tr>\n",
       "    <tr>\n",
       "      <th>654</th>\n",
       "      <td>655</td>\n",
       "      <td>73</td>\n",
       "      <td>1</td>\n",
       "      <td>2020-12-18--2020-12-25</td>\n",
       "      <td>Thank God It's Christmas - Non-Album Single</td>\n",
       "      <td>10,509,961</td>\n",
       "      <td>Queen</td>\n",
       "      <td></td>\n",
       "      <td></td>\n",
       "      <td></td>\n",
       "      <td>...</td>\n",
       "      <td></td>\n",
       "      <td></td>\n",
       "      <td></td>\n",
       "      <td></td>\n",
       "      <td></td>\n",
       "      <td></td>\n",
       "      <td></td>\n",
       "      <td></td>\n",
       "      <td></td>\n",
       "      <td></td>\n",
       "    </tr>\n",
       "    <tr>\n",
       "      <th>750</th>\n",
       "      <td>751</td>\n",
       "      <td>19</td>\n",
       "      <td>20</td>\n",
       "      <td>2020-07-31--2020-08-07</td>\n",
       "      <td>Agua (with J Balvin) - Music From \"Sponge On T...</td>\n",
       "      <td>5,358,940</td>\n",
       "      <td>Tainy</td>\n",
       "      <td></td>\n",
       "      <td></td>\n",
       "      <td></td>\n",
       "      <td>...</td>\n",
       "      <td></td>\n",
       "      <td></td>\n",
       "      <td></td>\n",
       "      <td></td>\n",
       "      <td></td>\n",
       "      <td></td>\n",
       "      <td></td>\n",
       "      <td></td>\n",
       "      <td></td>\n",
       "      <td></td>\n",
       "    </tr>\n",
       "    <tr>\n",
       "      <th>784</th>\n",
       "      <td>785</td>\n",
       "      <td>76</td>\n",
       "      <td>14</td>\n",
       "      <td>2020-09-04--2020-09-11</td>\n",
       "      <td>Lean (feat. Towy, Osquel, Beltito &amp; Sammy &amp; Fa...</td>\n",
       "      <td>4,739,241</td>\n",
       "      <td>Super Yei, Jone Quest</td>\n",
       "      <td></td>\n",
       "      <td></td>\n",
       "      <td></td>\n",
       "      <td>...</td>\n",
       "      <td></td>\n",
       "      <td></td>\n",
       "      <td></td>\n",
       "      <td></td>\n",
       "      <td></td>\n",
       "      <td></td>\n",
       "      <td></td>\n",
       "      <td></td>\n",
       "      <td></td>\n",
       "      <td></td>\n",
       "    </tr>\n",
       "    <tr>\n",
       "      <th>876</th>\n",
       "      <td>877</td>\n",
       "      <td>164</td>\n",
       "      <td>4</td>\n",
       "      <td>2020-09-18--2020-09-25</td>\n",
       "      <td>+Linda</td>\n",
       "      <td>4,964,708</td>\n",
       "      <td>Dalex</td>\n",
       "      <td></td>\n",
       "      <td></td>\n",
       "      <td></td>\n",
       "      <td>...</td>\n",
       "      <td></td>\n",
       "      <td></td>\n",
       "      <td></td>\n",
       "      <td></td>\n",
       "      <td></td>\n",
       "      <td></td>\n",
       "      <td></td>\n",
       "      <td></td>\n",
       "      <td></td>\n",
       "      <td></td>\n",
       "    </tr>\n",
       "    <tr>\n",
       "      <th>1140</th>\n",
       "      <td>1141</td>\n",
       "      <td>131</td>\n",
       "      <td>1</td>\n",
       "      <td>2020-05-29--2020-06-05</td>\n",
       "      <td>In meinem Benz</td>\n",
       "      <td>5,494,500</td>\n",
       "      <td>AK AUSSERKONTROLLE, Bonez MC</td>\n",
       "      <td></td>\n",
       "      <td></td>\n",
       "      <td></td>\n",
       "      <td>...</td>\n",
       "      <td></td>\n",
       "      <td></td>\n",
       "      <td></td>\n",
       "      <td></td>\n",
       "      <td></td>\n",
       "      <td></td>\n",
       "      <td></td>\n",
       "      <td></td>\n",
       "      <td></td>\n",
       "      <td></td>\n",
       "    </tr>\n",
       "    <tr>\n",
       "      <th>1538</th>\n",
       "      <td>1539</td>\n",
       "      <td>176</td>\n",
       "      <td>1</td>\n",
       "      <td>2020-01-03--2020-01-10</td>\n",
       "      <td>fuck, i'm lonely (with Anne-Marie) - from “13 ...</td>\n",
       "      <td>4,856,458</td>\n",
       "      <td>Lauv</td>\n",
       "      <td></td>\n",
       "      <td></td>\n",
       "      <td></td>\n",
       "      <td>...</td>\n",
       "      <td></td>\n",
       "      <td></td>\n",
       "      <td></td>\n",
       "      <td></td>\n",
       "      <td></td>\n",
       "      <td></td>\n",
       "      <td></td>\n",
       "      <td></td>\n",
       "      <td></td>\n",
       "      <td></td>\n",
       "    </tr>\n",
       "  </tbody>\n",
       "</table>\n",
       "<p>11 rows × 23 columns</p>\n",
       "</div>"
      ],
      "text/plain": [
       "      Index  Highest Charting Position  Number of Times Charted  \\\n",
       "35       36                         36                        1   \n",
       "163     164                          5                       39   \n",
       "464     465                        118                        1   \n",
       "530     531                         20                        5   \n",
       "636     637                         22                        6   \n",
       "654     655                         73                        1   \n",
       "750     751                         19                       20   \n",
       "784     785                         76                       14   \n",
       "876     877                        164                        4   \n",
       "1140   1141                        131                        1   \n",
       "1538   1539                        176                        1   \n",
       "\n",
       "     Week of Highest Charting  \\\n",
       "35     2021-07-23--2021-07-30   \n",
       "163    2020-10-30--2020-11-06   \n",
       "464    2021-03-26--2021-04-02   \n",
       "530    2021-01-15--2021-01-22   \n",
       "636    2020-12-18--2020-12-25   \n",
       "654    2020-12-18--2020-12-25   \n",
       "750    2020-07-31--2020-08-07   \n",
       "784    2020-09-04--2020-09-11   \n",
       "876    2020-09-18--2020-09-25   \n",
       "1140   2020-05-29--2020-06-05   \n",
       "1538   2020-01-03--2020-01-10   \n",
       "\n",
       "                                              Song Name     Streams  \\\n",
       "35            NOT SOBER (feat. Polo G & Stunna Gambino)  11,869,336   \n",
       "163                                               34+35   5,453,159   \n",
       "464                               Richer (feat. Polo G)   6,292,362   \n",
       "530   34+35 Remix (feat. Doja Cat, Megan Thee Stalli...   6,162,453   \n",
       "636          Driving Home for Christmas - 2019 Remaster   8,804,531   \n",
       "654         Thank God It's Christmas - Non-Album Single  10,509,961   \n",
       "750   Agua (with J Balvin) - Music From \"Sponge On T...   5,358,940   \n",
       "784   Lean (feat. Towy, Osquel, Beltito & Sammy & Fa...   4,739,241   \n",
       "876                                              +Linda   4,964,708   \n",
       "1140                                     In meinem Benz   5,494,500   \n",
       "1538  fuck, i'm lonely (with Anne-Marie) - from “13 ...   4,856,458   \n",
       "\n",
       "                            Artist Artist Followers Song ID Genre  ...  \\\n",
       "35                   The Kid LAROI                                 ...   \n",
       "163                  Ariana Grande                                 ...   \n",
       "464                       Rod Wave                                 ...   \n",
       "530                  Ariana Grande                                 ...   \n",
       "636                      Chris Rea                                 ...   \n",
       "654                          Queen                                 ...   \n",
       "750                          Tainy                                 ...   \n",
       "784          Super Yei, Jone Quest                                 ...   \n",
       "876                          Dalex                                 ...   \n",
       "1140  AK AUSSERKONTROLLE, Bonez MC                                 ...   \n",
       "1538                          Lauv                                 ...   \n",
       "\n",
       "     Danceability Energy Loudness Speechiness Acousticness Liveness Tempo  \\\n",
       "35                                                                          \n",
       "163                                                                         \n",
       "464                                                                         \n",
       "530                                                                         \n",
       "636                                                                         \n",
       "654                                                                         \n",
       "750                                                                         \n",
       "784                                                                         \n",
       "876                                                                         \n",
       "1140                                                                        \n",
       "1538                                                                        \n",
       "\n",
       "     Duration (ms) Valence Chord  \n",
       "35                                \n",
       "163                               \n",
       "464                               \n",
       "530                               \n",
       "636                               \n",
       "654                               \n",
       "750                               \n",
       "784                               \n",
       "876                               \n",
       "1140                              \n",
       "1538                              \n",
       "\n",
       "[11 rows x 23 columns]"
      ]
     },
     "execution_count": 144,
     "metadata": {},
     "output_type": "execute_result"
    }
   ],
   "source": [
    "df4.loc[df4['Valence'] == ' ']"
   ]
  },
  {
   "cell_type": "code",
   "execution_count": 145,
   "id": "2f0bb707-63f3-4db8-863f-333151dac80e",
   "metadata": {},
   "outputs": [],
   "source": [
    "df4 = df4.drop([163, 464, 530, 636, 654, 750, 784, 876, 1140, 36, 1539, 35, 1538])"
   ]
  },
  {
   "cell_type": "code",
   "execution_count": 146,
   "id": "af960481-4db6-4fc0-a4af-67535fb900aa",
   "metadata": {},
   "outputs": [
    {
     "data": {
      "text/plain": [
       "Index                         int64\n",
       "Highest Charting Position     int64\n",
       "Number of Times Charted       int64\n",
       "Week of Highest Charting     object\n",
       "Song Name                    object\n",
       "Streams                      object\n",
       "Artist                       object\n",
       "Artist Followers             object\n",
       "Song ID                      object\n",
       "Genre                        object\n",
       "Release Date                 object\n",
       "Weeks Charted                object\n",
       "Popularity                   object\n",
       "Danceability                 object\n",
       "Energy                       object\n",
       "Loudness                     object\n",
       "Speechiness                  object\n",
       "Acousticness                 object\n",
       "Liveness                     object\n",
       "Tempo                        object\n",
       "Duration (ms)                object\n",
       "Valence                      object\n",
       "Chord                        object\n",
       "dtype: object"
      ]
     },
     "execution_count": 146,
     "metadata": {},
     "output_type": "execute_result"
    }
   ],
   "source": [
    "df4.dtypes"
   ]
  },
  {
   "cell_type": "markdown",
   "id": "db4bb06a-aaee-4689-b6b1-fffa8d2bcbc0",
   "metadata": {},
   "source": [
    "zamieniam na wartości liczbowe"
   ]
  },
  {
   "cell_type": "code",
   "execution_count": 147,
   "id": "73fbaf0b-a618-41c8-b960-beed3527dd76",
   "metadata": {},
   "outputs": [],
   "source": [
    "df4[['Artist Followers','Popularity',\n",
    " 'Danceability',\n",
    " 'Energy',\n",
    " 'Loudness',\n",
    " 'Speechiness',\n",
    " 'Acousticness',\n",
    " 'Liveness',\n",
    " 'Tempo',\n",
    " 'Duration (ms)',\n",
    " 'Valence']] = df4[['Artist Followers','Popularity',\n",
    " 'Danceability',\n",
    " 'Energy',\n",
    " 'Loudness',\n",
    " 'Speechiness',\n",
    " 'Acousticness',\n",
    " 'Liveness',\n",
    " 'Tempo',\n",
    " 'Duration (ms)',\n",
    " 'Valence']].apply(pd.to_numeric)"
   ]
  },
  {
   "cell_type": "code",
   "execution_count": 148,
   "id": "9620bce2-6578-4d9d-94c3-1f9c14e8cc42",
   "metadata": {},
   "outputs": [
    {
     "data": {
      "text/plain": [
       "(1543, 23)"
      ]
     },
     "execution_count": 148,
     "metadata": {},
     "output_type": "execute_result"
    }
   ],
   "source": [
    "df4.shape"
   ]
  },
  {
   "cell_type": "code",
   "execution_count": 149,
   "id": "bb689323-659a-4b14-9e88-4be4b725e525",
   "metadata": {},
   "outputs": [],
   "source": [
    "# finalna baza danych służąca do analizy posiada 1543 obserwacje. Za obserwacje uznaje się utwór muzyczny.\n",
    "# df4.to_csv(r'bazy_danych\\Spotify_obrobione.csv', index=False, header=True)"
   ]
  },
  {
   "cell_type": "markdown",
   "id": "9af9c4cd-bd1f-453b-a02b-5e564b90c0ab",
   "metadata": {},
   "source": [
    "# Klastrowanie\n",
    "Przeprowadzamy klastrowanie K-średnich przy wykorzystaniu dystansu euklidesowego, aby zidentyfikować grupy utworów o podobnych cechach. 1. Baza danych Spotify 2020-2021 (już obrobiona) "
   ]
  },
  {
   "cell_type": "code",
   "execution_count": 150,
   "id": "8fb293b9-e5ea-49ff-8933-77765ade67db",
   "metadata": {},
   "outputs": [],
   "source": [
    "df = pd.read_csv(\"bazy_danych\\Spotify_obrobione.csv\")"
   ]
  },
  {
   "cell_type": "code",
   "execution_count": 151,
   "id": "a52e4502-2458-4f15-b14b-bff0fbcc974f",
   "metadata": {},
   "outputs": [
    {
     "data": {
      "text/html": [
       "<div>\n",
       "<style scoped>\n",
       "    .dataframe tbody tr th:only-of-type {\n",
       "        vertical-align: middle;\n",
       "    }\n",
       "\n",
       "    .dataframe tbody tr th {\n",
       "        vertical-align: top;\n",
       "    }\n",
       "\n",
       "    .dataframe thead th {\n",
       "        text-align: right;\n",
       "    }\n",
       "</style>\n",
       "<table border=\"1\" class=\"dataframe\">\n",
       "  <thead>\n",
       "    <tr style=\"text-align: right;\">\n",
       "      <th></th>\n",
       "      <th>Index</th>\n",
       "      <th>Highest Charting Position</th>\n",
       "      <th>Number of Times Charted</th>\n",
       "      <th>Week of Highest Charting</th>\n",
       "      <th>Song Name</th>\n",
       "      <th>Streams</th>\n",
       "      <th>Artist</th>\n",
       "      <th>Artist Followers</th>\n",
       "      <th>Song ID</th>\n",
       "      <th>Genre</th>\n",
       "      <th>...</th>\n",
       "      <th>Danceability</th>\n",
       "      <th>Energy</th>\n",
       "      <th>Loudness</th>\n",
       "      <th>Speechiness</th>\n",
       "      <th>Acousticness</th>\n",
       "      <th>Liveness</th>\n",
       "      <th>Tempo</th>\n",
       "      <th>Duration (ms)</th>\n",
       "      <th>Valence</th>\n",
       "      <th>Chord</th>\n",
       "    </tr>\n",
       "  </thead>\n",
       "  <tbody>\n",
       "    <tr>\n",
       "      <th>0</th>\n",
       "      <td>1</td>\n",
       "      <td>1</td>\n",
       "      <td>8</td>\n",
       "      <td>2021-07-23--2021-07-30</td>\n",
       "      <td>Beggin'</td>\n",
       "      <td>48,633,449</td>\n",
       "      <td>Måneskin</td>\n",
       "      <td>3377762</td>\n",
       "      <td>3Wrjm47oTz2sjIgck11l5e</td>\n",
       "      <td>['indie rock italiano', 'italian pop']</td>\n",
       "      <td>...</td>\n",
       "      <td>0.714</td>\n",
       "      <td>0.8</td>\n",
       "      <td>-4.808</td>\n",
       "      <td>0.0504</td>\n",
       "      <td>0.127</td>\n",
       "      <td>0.359</td>\n",
       "      <td>134.002</td>\n",
       "      <td>211560</td>\n",
       "      <td>0.589</td>\n",
       "      <td>B</td>\n",
       "    </tr>\n",
       "  </tbody>\n",
       "</table>\n",
       "<p>1 rows × 23 columns</p>\n",
       "</div>"
      ],
      "text/plain": [
       "   Index  Highest Charting Position  Number of Times Charted  \\\n",
       "0      1                          1                        8   \n",
       "\n",
       "  Week of Highest Charting Song Name     Streams    Artist  Artist Followers  \\\n",
       "0   2021-07-23--2021-07-30   Beggin'  48,633,449  Måneskin           3377762   \n",
       "\n",
       "                  Song ID                                   Genre  ...  \\\n",
       "0  3Wrjm47oTz2sjIgck11l5e  ['indie rock italiano', 'italian pop']  ...   \n",
       "\n",
       "  Danceability Energy  Loudness  Speechiness  Acousticness  Liveness    Tempo  \\\n",
       "0        0.714    0.8    -4.808       0.0504         0.127     0.359  134.002   \n",
       "\n",
       "   Duration (ms)  Valence  Chord  \n",
       "0         211560    0.589      B  \n",
       "\n",
       "[1 rows x 23 columns]"
      ]
     },
     "execution_count": 151,
     "metadata": {},
     "output_type": "execute_result"
    }
   ],
   "source": [
    "df.drop(\"Chord\", axis=1)\n",
    "df.head(1)"
   ]
  },
  {
   "cell_type": "code",
   "execution_count": 152,
   "id": "89c2edfa-b3c4-43af-b897-47267a0aa55c",
   "metadata": {},
   "outputs": [
    {
     "data": {
      "text/plain": [
       "Index                          int64\n",
       "Highest Charting Position      int64\n",
       "Number of Times Charted        int64\n",
       "Week of Highest Charting      object\n",
       "Song Name                     object\n",
       "Streams                       object\n",
       "Artist                        object\n",
       "Artist Followers               int64\n",
       "Song ID                       object\n",
       "Genre                         object\n",
       "Release Date                  object\n",
       "Weeks Charted                 object\n",
       "Popularity                     int64\n",
       "Danceability                 float64\n",
       "Energy                       float64\n",
       "Loudness                     float64\n",
       "Speechiness                  float64\n",
       "Acousticness                 float64\n",
       "Liveness                     float64\n",
       "Tempo                        float64\n",
       "Duration (ms)                  int64\n",
       "Valence                      float64\n",
       "Chord                         object\n",
       "dtype: object"
      ]
     },
     "execution_count": 152,
     "metadata": {},
     "output_type": "execute_result"
    }
   ],
   "source": [
    "df.dtypes #ponieważ Streams pojawia się jako object to chce z niego zrobić integer"
   ]
  },
  {
   "cell_type": "code",
   "execution_count": 153,
   "id": "2ede8c2e-f5b8-4820-803e-13330c6a8af1",
   "metadata": {},
   "outputs": [],
   "source": [
    "df['Streams'] = df['Streams'].str.replace(',', '').astype(int)"
   ]
  },
  {
   "cell_type": "code",
   "execution_count": 154,
   "id": "73b33e53-2a5d-4190-b97c-8e69a22c840f",
   "metadata": {},
   "outputs": [
    {
     "data": {
      "text/plain": [
       "Index                          int64\n",
       "Highest Charting Position      int64\n",
       "Number of Times Charted        int64\n",
       "Week of Highest Charting      object\n",
       "Song Name                     object\n",
       "Streams                        int32\n",
       "Artist                        object\n",
       "Artist Followers               int64\n",
       "Song ID                       object\n",
       "Genre                         object\n",
       "Release Date                  object\n",
       "Weeks Charted                 object\n",
       "Popularity                     int64\n",
       "Danceability                 float64\n",
       "Energy                       float64\n",
       "Loudness                     float64\n",
       "Speechiness                  float64\n",
       "Acousticness                 float64\n",
       "Liveness                     float64\n",
       "Tempo                        float64\n",
       "Duration (ms)                  int64\n",
       "Valence                      float64\n",
       "Chord                         object\n",
       "dtype: object"
      ]
     },
     "execution_count": 154,
     "metadata": {},
     "output_type": "execute_result"
    }
   ],
   "source": [
    "df.dtypes"
   ]
  },
  {
   "cell_type": "markdown",
   "id": "3b56f602-6d86-4663-a820-1a80cdead17c",
   "metadata": {},
   "source": [
    "## Standaryzacja zmiennych\n",
    "Standaryzujemy zmienne, aby ujednolicić ich skalę i przygotować dane do klastrowania."
   ]
  },
  {
   "cell_type": "code",
   "execution_count": 155,
   "id": "ef5b9206-05da-477e-b606-aaa2ec4c2d74",
   "metadata": {},
   "outputs": [],
   "source": [
    "scaler = StandardScaler()"
   ]
  },
  {
   "cell_type": "code",
   "execution_count": 156,
   "id": "f7b889af-89b5-4fbe-905f-cc1b37c00689",
   "metadata": {},
   "outputs": [],
   "source": [
    "#nowa baza danych ze standaryzowanymi zmiennymi"
   ]
  },
  {
   "cell_type": "code",
   "execution_count": 157,
   "id": "742d1bc1-6066-4574-9d49-272954b59918",
   "metadata": {},
   "outputs": [],
   "source": [
    "df_clustering = pd.DataFrame()"
   ]
  },
  {
   "cell_type": "code",
   "execution_count": 158,
   "id": "272c2415-dbb1-4e85-9d9f-43f2080e966b",
   "metadata": {},
   "outputs": [],
   "source": [
    "df_clustering[['Danceability_T', 'Energy_T', 'Loudness_T', 'Speechiness_T', 'Acousticness_T',\n",
    "       'Liveness_T', 'Tempo_T', 'Duration (ms)_T', 'Valence_T']] = scaler.fit_transform(df[['Danceability', 'Energy', 'Loudness', 'Speechiness', 'Acousticness',\n",
    "       'Liveness', 'Tempo', 'Duration (ms)', 'Valence']])"
   ]
  },
  {
   "cell_type": "code",
   "execution_count": 159,
   "id": "ac8ca4b8-22f8-42b4-9440-399fc2386ff1",
   "metadata": {},
   "outputs": [
    {
     "data": {
      "text/html": [
       "<div>\n",
       "<style scoped>\n",
       "    .dataframe tbody tr th:only-of-type {\n",
       "        vertical-align: middle;\n",
       "    }\n",
       "\n",
       "    .dataframe tbody tr th {\n",
       "        vertical-align: top;\n",
       "    }\n",
       "\n",
       "    .dataframe thead th {\n",
       "        text-align: right;\n",
       "    }\n",
       "</style>\n",
       "<table border=\"1\" class=\"dataframe\">\n",
       "  <thead>\n",
       "    <tr style=\"text-align: right;\">\n",
       "      <th></th>\n",
       "      <th>Danceability_T</th>\n",
       "      <th>Energy_T</th>\n",
       "      <th>Loudness_T</th>\n",
       "      <th>Speechiness_T</th>\n",
       "      <th>Acousticness_T</th>\n",
       "      <th>Liveness_T</th>\n",
       "      <th>Tempo_T</th>\n",
       "      <th>Duration (ms)_T</th>\n",
       "      <th>Valence_T</th>\n",
       "    </tr>\n",
       "  </thead>\n",
       "  <tbody>\n",
       "    <tr>\n",
       "      <th>0</th>\n",
       "      <td>0.170245</td>\n",
       "      <td>1.030593</td>\n",
       "      <td>0.613556</td>\n",
       "      <td>-0.662755</td>\n",
       "      <td>-0.486337</td>\n",
       "      <td>1.233571</td>\n",
       "      <td>0.377512</td>\n",
       "      <td>0.287873</td>\n",
       "      <td>0.327050</td>\n",
       "    </tr>\n",
       "    <tr>\n",
       "      <th>1</th>\n",
       "      <td>-0.693978</td>\n",
       "      <td>0.807792</td>\n",
       "      <td>0.344240</td>\n",
       "      <td>-0.681782</td>\n",
       "      <td>-0.840699</td>\n",
       "      <td>-0.542835</td>\n",
       "      <td>1.591997</td>\n",
       "      <td>-1.191669</td>\n",
       "      <td>-0.161183</td>\n",
       "    </tr>\n",
       "    <tr>\n",
       "      <th>2</th>\n",
       "      <td>-0.890712</td>\n",
       "      <td>0.188900</td>\n",
       "      <td>0.519535</td>\n",
       "      <td>0.275897</td>\n",
       "      <td>0.344636</td>\n",
       "      <td>-0.668432</td>\n",
       "      <td>1.490581</td>\n",
       "      <td>-0.420845</td>\n",
       "      <td>0.762501</td>\n",
       "    </tr>\n",
       "    <tr>\n",
       "      <th>3</th>\n",
       "      <td>0.830709</td>\n",
       "      <td>1.630918</td>\n",
       "      <td>1.050200</td>\n",
       "      <td>-0.804097</td>\n",
       "      <td>-0.806342</td>\n",
       "      <td>1.268266</td>\n",
       "      <td>0.107882</td>\n",
       "      <td>0.701082</td>\n",
       "      <td>0.335847</td>\n",
       "    </tr>\n",
       "    <tr>\n",
       "      <th>4</th>\n",
       "      <td>0.324822</td>\n",
       "      <td>0.436457</td>\n",
       "      <td>-0.422675</td>\n",
       "      <td>-0.562186</td>\n",
       "      <td>-0.912611</td>\n",
       "      <td>-0.909912</td>\n",
       "      <td>0.918158</td>\n",
       "      <td>0.297206</td>\n",
       "      <td>1.668592</td>\n",
       "    </tr>\n",
       "  </tbody>\n",
       "</table>\n",
       "</div>"
      ],
      "text/plain": [
       "   Danceability_T  Energy_T  Loudness_T  Speechiness_T  Acousticness_T  \\\n",
       "0        0.170245  1.030593    0.613556      -0.662755       -0.486337   \n",
       "1       -0.693978  0.807792    0.344240      -0.681782       -0.840699   \n",
       "2       -0.890712  0.188900    0.519535       0.275897        0.344636   \n",
       "3        0.830709  1.630918    1.050200      -0.804097       -0.806342   \n",
       "4        0.324822  0.436457   -0.422675      -0.562186       -0.912611   \n",
       "\n",
       "   Liveness_T   Tempo_T  Duration (ms)_T  Valence_T  \n",
       "0    1.233571  0.377512         0.287873   0.327050  \n",
       "1   -0.542835  1.591997        -1.191669  -0.161183  \n",
       "2   -0.668432  1.490581        -0.420845   0.762501  \n",
       "3    1.268266  0.107882         0.701082   0.335847  \n",
       "4   -0.909912  0.918158         0.297206   1.668592  "
      ]
     },
     "execution_count": 159,
     "metadata": {},
     "output_type": "execute_result"
    }
   ],
   "source": [
    "df_clustering.head()"
   ]
  },
  {
   "cell_type": "code",
   "execution_count": 160,
   "id": "1fdcbd46-55a1-4ae4-ae4b-8c882317b0e0",
   "metadata": {},
   "outputs": [
    {
     "data": {
      "text/plain": [
       "(1543, 9)"
      ]
     },
     "execution_count": 160,
     "metadata": {},
     "output_type": "execute_result"
    }
   ],
   "source": [
    "df_clustering.shape"
   ]
  },
  {
   "cell_type": "markdown",
   "id": "65e0d769-f7c8-4dc0-bd9c-42cc4df143d1",
   "metadata": {},
   "source": [
    "## Wybór ilości klastrów"
   ]
  },
  {
   "cell_type": "markdown",
   "id": "644bfc61-033e-40e5-990a-a2cb8826272f",
   "metadata": {},
   "source": [
    "### Wykres łokcia"
   ]
  },
  {
   "cell_type": "code",
   "execution_count": 161,
   "id": "e9b5bc2c-24a9-4bc6-95a5-c349e707970a",
   "metadata": {},
   "outputs": [],
   "source": [
    "# Źródło: https://medium.com/analytics-vidhya/how-to-determine-the-optimal-k-for-k-means-708505d204eb\n",
    "\n",
    "# function returns WSS score for k values from 1 to kmax\n",
    "def calculate_WSS(points, kmax):\n",
    "    sse = []\n",
    "    for k in range(1, kmax+1):\n",
    "        kmeans = cluster.KMeans(n_clusters = k).fit(points)\n",
    "        centroids = kmeans.cluster_centers_\n",
    "        pred_clusters = kmeans.predict(points)\n",
    "        curr_sse = 0\n",
    "\n",
    "        # Policzenie WSS metryką euklidesową:\n",
    "        for i in range(len(points)):\n",
    "            curr_center = centroids[pred_clusters[i]]\n",
    "            curr_sse += (points.iloc[i, 0] - curr_center[0]) ** 2 + (points.iloc[i, 1] - curr_center[1]) ** 2\n",
    "      \n",
    "        sse.append(curr_sse)\n",
    "    return sse"
   ]
  },
  {
   "cell_type": "code",
   "execution_count": 162,
   "id": "5d716676-2bbd-4e40-bdfc-5ef4a7246ff7",
   "metadata": {},
   "outputs": [
    {
     "data": {
      "image/png": "[encoded data removed]",
      "text/plain": [
       "<Figure size 640x480 with 1 Axes>"
      ]
     },
     "metadata": {},
     "output_type": "display_data"
    }
   ],
   "source": [
    "wss = calculate_WSS(df_clustering[['Danceability_T', 'Energy_T', 'Loudness_T', 'Speechiness_T', 'Acousticness_T',\n",
    "       'Liveness_T', 'Tempo_T', 'Duration (ms)_T', 'Valence_T']], 23)\n",
    "plt.plot(list(range(1,24)), wss)\n",
    "plt.title('Wykres łokcia')\n",
    "plt.xlabel('Ilość klastrów')\n",
    "plt.ylabel(\"WSS\")\n",
    "plt.xticks(list(range(1,24)))\n",
    "plt.tight_layout()\n",
    "#plt.savefig('elbow_plot_bachelor.png')\n",
    "plt.show()"
   ]
  },
  {
   "cell_type": "markdown",
   "id": "8ea6aa30-96cd-41eb-9c05-5a9c9eedc56b",
   "metadata": {},
   "source": [
    "wniosek: **5/6 klastrów** "
   ]
  },
  {
   "cell_type": "markdown",
   "id": "6d068bd0-1fea-48d4-82cb-4f745e014bcc",
   "metadata": {},
   "source": [
    "### Współczynnik Silhouette"
   ]
  },
  {
   "cell_type": "code",
   "execution_count": 163,
   "id": "7fb7bef7-7176-488f-a428-8dde82e24c8a",
   "metadata": {},
   "outputs": [
    {
     "name": "stdout",
     "output_type": "stream",
     "text": [
      "Silhouette Coefficient\n",
      "2 0.2503\n",
      "Silhouette Coefficient\n",
      "3 0.1551\n",
      "Silhouette Coefficient\n",
      "4 0.1335\n",
      "Silhouette Coefficient\n",
      "5 0.1377\n",
      "Silhouette Coefficient\n",
      "6 0.1294\n",
      "Silhouette Coefficient\n",
      "7 0.1256\n",
      "Silhouette Coefficient\n",
      "8 0.123\n",
      "Silhouette Coefficient\n",
      "9 0.1213\n"
     ]
    }
   ],
   "source": [
    "from sklearn.metrics import silhouette_score\n",
    "for k in range(2,10):\n",
    "    clus = cluster.KMeans(n_clusters=k)\n",
    "    df_clustering[\"KMean\"] = clus.fit_predict(df_clustering[['Danceability_T', 'Energy_T', 'Loudness_T', 'Speechiness_T', 'Acousticness_T',\n",
    "       'Liveness_T', 'Tempo_T', 'Duration (ms)_T', 'Valence_T']])\n",
    "    print(\"Silhouette Coefficient\")\n",
    "    print(k, round(silhouette_score(df_clustering[['Danceability_T', 'Energy_T', 'Loudness_T', 'Speechiness_T', 'Acousticness_T',\n",
    "       'Liveness_T', 'Tempo_T', 'Duration (ms)_T', 'Valence_T']],  df_clustering[\"KMean\"]),4))"
   ]
  },
  {
   "cell_type": "markdown",
   "id": "0eed8cf4-e6c0-4d1e-a1ab-0458ec8ddb03",
   "metadata": {},
   "source": [
    "wniosek: **5 klastrów** "
   ]
  },
  {
   "cell_type": "markdown",
   "id": "55bee0d9-1036-46bb-86e1-5906e4ab3325",
   "metadata": {},
   "source": [
    "<font size = 4><b> Finalny wniosek: </font> <br>\n",
    "Wykres łokcia wskazuje, że optymalna ilość klastrów dla tego zbioru danych równa jest 6, z\n",
    "ewentualnym rozważeniem zastosowania ilości 5 klastrów. Biorąc również pod\n",
    "uwagę wartości współczynnika Silhouette stwierdzono, iż najbardziej efektywnym\n",
    "rozwiązaniem będzie zastosowanie podziału na **5 klastrów**, ze względu na relatywnie duży\n",
    "spadek wartości wspomnianego współczynnika podczas przejścia z ilości 5 do ilości 6\n",
    "klastrów."
   ]
  },
  {
   "cell_type": "markdown",
   "id": "28f95452-b503-4adc-ac8f-80a76dddff60",
   "metadata": {},
   "source": [
    "## Klastrowanie"
   ]
  },
  {
   "cell_type": "code",
   "execution_count": 164,
   "id": "ffd8d97e-0f6e-4d65-b67b-15ad8f1110da",
   "metadata": {},
   "outputs": [],
   "source": [
    "clus = cluster.KMeans(n_clusters=5, random_state = 42)\n",
    "df[\"KMean_group\"] = clus.fit_predict(df_clustering[['Danceability_T', 'Energy_T', 'Loudness_T', 'Speechiness_T', 'Acousticness_T',\n",
    "       'Liveness_T', 'Tempo_T', 'Duration (ms)_T', 'Valence_T']])"
   ]
  },
  {
   "cell_type": "markdown",
   "id": "013cdcdd-9ec0-4f5e-bda3-89723acb2c58",
   "metadata": {},
   "source": [
    "## Analiza klastrów"
   ]
  },
  {
   "cell_type": "markdown",
   "id": "129d90fc-d22d-4639-88e3-ee7d7c79637f",
   "metadata": {},
   "source": [
    "### Analiza cech utworu w klastrach"
   ]
  },
  {
   "cell_type": "code",
   "execution_count": 165,
   "id": "33571f84-07f1-4dcd-a21f-33168598a952",
   "metadata": {},
   "outputs": [],
   "source": [
    "columns_to_display = ['Popularity', 'Danceability', 'Energy', 'Loudness', 'Speechiness',\n",
    "       'Acousticness', 'Liveness', 'Tempo', 'Duration (ms)', 'Valence', 'KMean_group']"
   ]
  },
  {
   "cell_type": "code",
   "execution_count": 166,
   "id": "dfeff113-9673-4288-aebe-91a60196c37c",
   "metadata": {},
   "outputs": [
    {
     "data": {
      "text/html": [
       "<style type=\"text/css\">\n",
       "#T_17eb6_row0_col0, #T_17eb6_row0_col8, #T_17eb6_row1_col2, #T_17eb6_row1_col3, #T_17eb6_row1_col9, #T_17eb6_row2_col1, #T_17eb6_row2_col4, #T_17eb6_row2_col7, #T_17eb6_row3_col5, #T_17eb6_row4_col6 {\n",
       "  background-color: #023858;\n",
       "  color: #f1f1f1;\n",
       "}\n",
       "#T_17eb6_row0_col1, #T_17eb6_row4_col4 {\n",
       "  background-color: #9cb9d9;\n",
       "  color: #000000;\n",
       "}\n",
       "#T_17eb6_row0_col2, #T_17eb6_row4_col0 {\n",
       "  background-color: #197db7;\n",
       "  color: #f1f1f1;\n",
       "}\n",
       "#T_17eb6_row0_col3 {\n",
       "  background-color: #0a73b2;\n",
       "  color: #f1f1f1;\n",
       "}\n",
       "#T_17eb6_row0_col4 {\n",
       "  background-color: #faf2f8;\n",
       "  color: #000000;\n",
       "}\n",
       "#T_17eb6_row0_col5, #T_17eb6_row2_col6 {\n",
       "  background-color: #fdf5fa;\n",
       "  color: #000000;\n",
       "}\n",
       "#T_17eb6_row0_col6 {\n",
       "  background-color: #fef6fb;\n",
       "  color: #000000;\n",
       "}\n",
       "#T_17eb6_row0_col7 {\n",
       "  background-color: #4a98c5;\n",
       "  color: #f1f1f1;\n",
       "}\n",
       "#T_17eb6_row0_col9, #T_17eb6_row2_col5, #T_17eb6_row2_col8, #T_17eb6_row3_col0, #T_17eb6_row3_col1, #T_17eb6_row3_col2, #T_17eb6_row3_col3, #T_17eb6_row3_col4, #T_17eb6_row3_col6, #T_17eb6_row3_col7 {\n",
       "  background-color: #fff7fb;\n",
       "  color: #000000;\n",
       "}\n",
       "#T_17eb6_row1_col0 {\n",
       "  background-color: #034d79;\n",
       "  color: #f1f1f1;\n",
       "}\n",
       "#T_17eb6_row1_col1 {\n",
       "  background-color: #045687;\n",
       "  color: #f1f1f1;\n",
       "}\n",
       "#T_17eb6_row1_col4 {\n",
       "  background-color: #f2ecf5;\n",
       "  color: #000000;\n",
       "}\n",
       "#T_17eb6_row1_col5, #T_17eb6_row1_col6 {\n",
       "  background-color: #fbf4f9;\n",
       "  color: #000000;\n",
       "}\n",
       "#T_17eb6_row1_col7 {\n",
       "  background-color: #a2bcda;\n",
       "  color: #000000;\n",
       "}\n",
       "#T_17eb6_row1_col8 {\n",
       "  background-color: #4c99c5;\n",
       "  color: #f1f1f1;\n",
       "}\n",
       "#T_17eb6_row2_col0 {\n",
       "  background-color: #569dc8;\n",
       "  color: #f1f1f1;\n",
       "}\n",
       "#T_17eb6_row2_col2 {\n",
       "  background-color: #2182b9;\n",
       "  color: #f1f1f1;\n",
       "}\n",
       "#T_17eb6_row2_col3 {\n",
       "  background-color: #1379b5;\n",
       "  color: #f1f1f1;\n",
       "}\n",
       "#T_17eb6_row2_col9 {\n",
       "  background-color: #6fa7ce;\n",
       "  color: #f1f1f1;\n",
       "}\n",
       "#T_17eb6_row3_col8 {\n",
       "  background-color: #187cb6;\n",
       "  color: #f1f1f1;\n",
       "}\n",
       "#T_17eb6_row3_col9 {\n",
       "  background-color: #ece7f2;\n",
       "  color: #000000;\n",
       "}\n",
       "#T_17eb6_row4_col1 {\n",
       "  background-color: #abbfdc;\n",
       "  color: #000000;\n",
       "}\n",
       "#T_17eb6_row4_col2 {\n",
       "  background-color: #023b5d;\n",
       "  color: #f1f1f1;\n",
       "}\n",
       "#T_17eb6_row4_col3 {\n",
       "  background-color: #04598c;\n",
       "  color: #f1f1f1;\n",
       "}\n",
       "#T_17eb6_row4_col5 {\n",
       "  background-color: #f1ebf5;\n",
       "  color: #000000;\n",
       "}\n",
       "#T_17eb6_row4_col7 {\n",
       "  background-color: #89b1d4;\n",
       "  color: #000000;\n",
       "}\n",
       "#T_17eb6_row4_col8 {\n",
       "  background-color: #03446a;\n",
       "  color: #f1f1f1;\n",
       "}\n",
       "#T_17eb6_row4_col9 {\n",
       "  background-color: #80aed2;\n",
       "  color: #f1f1f1;\n",
       "}\n",
       "</style>\n",
       "<table id=\"T_17eb6\">\n",
       "  <thead>\n",
       "    <tr>\n",
       "      <th class=\"blank level0\" >&nbsp;</th>\n",
       "      <th id=\"T_17eb6_level0_col0\" class=\"col_heading level0 col0\" >Popularity</th>\n",
       "      <th id=\"T_17eb6_level0_col1\" class=\"col_heading level0 col1\" >Danceability</th>\n",
       "      <th id=\"T_17eb6_level0_col2\" class=\"col_heading level0 col2\" >Energy</th>\n",
       "      <th id=\"T_17eb6_level0_col3\" class=\"col_heading level0 col3\" >Loudness</th>\n",
       "      <th id=\"T_17eb6_level0_col4\" class=\"col_heading level0 col4\" >Speechiness</th>\n",
       "      <th id=\"T_17eb6_level0_col5\" class=\"col_heading level0 col5\" >Acousticness</th>\n",
       "      <th id=\"T_17eb6_level0_col6\" class=\"col_heading level0 col6\" >Liveness</th>\n",
       "      <th id=\"T_17eb6_level0_col7\" class=\"col_heading level0 col7\" >Tempo</th>\n",
       "      <th id=\"T_17eb6_level0_col8\" class=\"col_heading level0 col8\" >Duration (ms)</th>\n",
       "      <th id=\"T_17eb6_level0_col9\" class=\"col_heading level0 col9\" >Valence</th>\n",
       "    </tr>\n",
       "    <tr>\n",
       "      <th class=\"index_name level0\" >KMean_group</th>\n",
       "      <th class=\"blank col0\" >&nbsp;</th>\n",
       "      <th class=\"blank col1\" >&nbsp;</th>\n",
       "      <th class=\"blank col2\" >&nbsp;</th>\n",
       "      <th class=\"blank col3\" >&nbsp;</th>\n",
       "      <th class=\"blank col4\" >&nbsp;</th>\n",
       "      <th class=\"blank col5\" >&nbsp;</th>\n",
       "      <th class=\"blank col6\" >&nbsp;</th>\n",
       "      <th class=\"blank col7\" >&nbsp;</th>\n",
       "      <th class=\"blank col8\" >&nbsp;</th>\n",
       "      <th class=\"blank col9\" >&nbsp;</th>\n",
       "    </tr>\n",
       "  </thead>\n",
       "  <tbody>\n",
       "    <tr>\n",
       "      <th id=\"T_17eb6_level0_row0\" class=\"row_heading level0 row0\" >0</th>\n",
       "      <td id=\"T_17eb6_row0_col0\" class=\"data row0 col0\" >71.597122</td>\n",
       "      <td id=\"T_17eb6_row0_col1\" class=\"data row0 col1\" >0.636679</td>\n",
       "      <td id=\"T_17eb6_row0_col2\" class=\"data row0 col2\" >0.623115</td>\n",
       "      <td id=\"T_17eb6_row0_col3\" class=\"data row0 col3\" >-6.352115</td>\n",
       "      <td id=\"T_17eb6_row0_col4\" class=\"data row0 col4\" >0.072055</td>\n",
       "      <td id=\"T_17eb6_row0_col5\" class=\"data row0 col5\" >0.176884</td>\n",
       "      <td id=\"T_17eb6_row0_col6\" class=\"data row0 col6\" >0.150363</td>\n",
       "      <td id=\"T_17eb6_row0_col7\" class=\"data row0 col7\" >123.793789</td>\n",
       "      <td id=\"T_17eb6_row0_col8\" class=\"data row0 col8\" >204487.556355</td>\n",
       "      <td id=\"T_17eb6_row0_col9\" class=\"data row0 col9\" >0.330218</td>\n",
       "    </tr>\n",
       "    <tr>\n",
       "      <th id=\"T_17eb6_level0_row1\" class=\"row_heading level0 row1\" >1</th>\n",
       "      <td id=\"T_17eb6_row1_col0\" class=\"data row1 col0\" >71.122873</td>\n",
       "      <td id=\"T_17eb6_row1_col1\" class=\"data row1 col1\" >0.747095</td>\n",
       "      <td id=\"T_17eb6_row1_col2\" class=\"data row1 col2\" >0.729822</td>\n",
       "      <td id=\"T_17eb6_row1_col3\" class=\"data row1 col3\" >-5.007342</td>\n",
       "      <td id=\"T_17eb6_row1_col4\" class=\"data row1 col4\" >0.083738</td>\n",
       "      <td id=\"T_17eb6_row1_col5\" class=\"data row1 col5\" >0.181886</td>\n",
       "      <td id=\"T_17eb6_row1_col6\" class=\"data row1 col6\" >0.158536</td>\n",
       "      <td id=\"T_17eb6_row1_col7\" class=\"data row1 col7\" >120.945440</td>\n",
       "      <td id=\"T_17eb6_row1_col8\" class=\"data row1 col8\" >197397.000000</td>\n",
       "      <td id=\"T_17eb6_row1_col9\" class=\"data row1 col9\" >0.706949</td>\n",
       "    </tr>\n",
       "    <tr>\n",
       "      <th id=\"T_17eb6_level0_row2\" class=\"row_heading level0 row2\" >2</th>\n",
       "      <td id=\"T_17eb6_row2_col0\" class=\"data row2 col0\" >69.032362</td>\n",
       "      <td id=\"T_17eb6_row2_col1\" class=\"data row2 col1\" >0.771945</td>\n",
       "      <td id=\"T_17eb6_row2_col2\" class=\"data row2 col2\" >0.616472</td>\n",
       "      <td id=\"T_17eb6_row2_col3\" class=\"data row2 col3\" >-6.479883</td>\n",
       "      <td id=\"T_17eb6_row2_col4\" class=\"data row2 col4\" >0.289487</td>\n",
       "      <td id=\"T_17eb6_row2_col5\" class=\"data row2 col5\" >0.167628</td>\n",
       "      <td id=\"T_17eb6_row2_col6\" class=\"data row2 col6\" >0.153305</td>\n",
       "      <td id=\"T_17eb6_row2_col7\" class=\"data row2 col7\" >129.727191</td>\n",
       "      <td id=\"T_17eb6_row2_col8\" class=\"data row2 col8\" >187577.715210</td>\n",
       "      <td id=\"T_17eb6_row2_col9\" class=\"data row2 col9\" >0.522651</td>\n",
       "    </tr>\n",
       "    <tr>\n",
       "      <th id=\"T_17eb6_level0_row3\" class=\"row_heading level0 row3\" >3</th>\n",
       "      <td id=\"T_17eb6_row3_col0\" class=\"data row3 col0\" >65.764103</td>\n",
       "      <td id=\"T_17eb6_row3_col1\" class=\"data row3 col1\" >0.546928</td>\n",
       "      <td id=\"T_17eb6_row3_col2\" class=\"data row3 col2\" >0.377333</td>\n",
       "      <td id=\"T_17eb6_row3_col3\" class=\"data row3 col3\" >-10.106944</td>\n",
       "      <td id=\"T_17eb6_row3_col4\" class=\"data row3 col4\" >0.064101</td>\n",
       "      <td id=\"T_17eb6_row3_col5\" class=\"data row3 col5\" >0.726759</td>\n",
       "      <td id=\"T_17eb6_row3_col6\" class=\"data row3 col6\" >0.147536</td>\n",
       "      <td id=\"T_17eb6_row3_col7\" class=\"data row3 col7\" >115.457503</td>\n",
       "      <td id=\"T_17eb6_row3_col8\" class=\"data row3 col8\" >199438.666667</td>\n",
       "      <td id=\"T_17eb6_row3_col9\" class=\"data row3 col9\" >0.377955</td>\n",
       "    </tr>\n",
       "    <tr>\n",
       "      <th id=\"T_17eb6_level0_row4\" class=\"row_heading level0 row4\" >4</th>\n",
       "      <td id=\"T_17eb6_row4_col0\" class=\"data row4 col0\" >69.827957</td>\n",
       "      <td id=\"T_17eb6_row4_col1\" class=\"data row4 col1\" >0.628226</td>\n",
       "      <td id=\"T_17eb6_row4_col2\" class=\"data row4 col2\" >0.725495</td>\n",
       "      <td id=\"T_17eb6_row4_col3\" class=\"data row4 col3\" >-5.636624</td>\n",
       "      <td id=\"T_17eb6_row4_col4\" class=\"data row4 col4\" >0.154198</td>\n",
       "      <td id=\"T_17eb6_row4_col5\" class=\"data row4 col5\" >0.218322</td>\n",
       "      <td id=\"T_17eb6_row4_col6\" class=\"data row4 col6\" >0.612129</td>\n",
       "      <td id=\"T_17eb6_row4_col7\" class=\"data row4 col7\" >121.848516</td>\n",
       "      <td id=\"T_17eb6_row4_col8\" class=\"data row4 col8\" >203754.462366</td>\n",
       "      <td id=\"T_17eb6_row4_col9\" class=\"data row4 col9\" >0.507742</td>\n",
       "    </tr>\n",
       "  </tbody>\n",
       "</table>\n"
      ],
      "text/plain": [
       "<pandas.io.formats.style.Styler at 0x1eb31742e50>"
      ]
     },
     "execution_count": 166,
     "metadata": {},
     "output_type": "execute_result"
    }
   ],
   "source": [
    "df[columns_to_display].groupby('KMean_group').mean(numeric_only=True).style.background_gradient()"
   ]
  },
  {
   "cell_type": "code",
   "execution_count": 167,
   "id": "ad00d3d4-db46-47f3-a430-01dd87cca06c",
   "metadata": {},
   "outputs": [
    {
     "data": {
      "text/plain": [
       "Popularity           70.077122\n",
       "Danceability          0.689770\n",
       "Energy                0.633478\n",
       "Loudness             -6.348062\n",
       "Speechiness           0.123549\n",
       "Acousticness          0.248735\n",
       "Liveness              0.181229\n",
       "Tempo               122.834721\n",
       "Duration (ms)    197988.038237\n",
       "Valence               0.514645\n",
       "KMean_group           1.363577\n",
       "dtype: float64"
      ]
     },
     "execution_count": 167,
     "metadata": {},
     "output_type": "execute_result"
    }
   ],
   "source": [
    "df[columns_to_display].mean(numeric_only=True)"
   ]
  },
  {
   "cell_type": "markdown",
   "id": "3cf52b02-9626-4cd3-b25a-9ee544d45282",
   "metadata": {},
   "source": [
    "<font size=4> <b> Empiryczne charakterystyki klastrów: </font><br>\n",
    "Każdemu z klastrów nadano jego empiryczną charakterystykę w oparciu o średnie\n",
    "wartości cech utworów w całej populacji oraz w podziale na poszczególne\n",
    "klastry. Klaster „0” posiada najniższą średnią wartość parametru Valence (0,33)\n",
    "oraz relatywnie niską średnią wartość dla parametru Danceability (0,64). Podczas, gdy\n",
    "średnia wartość parametru Valence dla całej populacji wynosi 0,51, natomiast w przypadku\n",
    "parametru Danceability wynosi ona 0,69. W konsekwencji, **klaster „0” określony został jako\n",
    "zbiór melancholijnych utworów muzycznych, wyraźnie wyrażających smutek oraz\n",
    "nienadających się do tańczenia**. Zaś klaster „1” charakteryzuje się najwyższą średnią\n",
    "wartością zmiennej Valence (0,71) oraz Energy (0,73) spośród wszystkich klastrów. Ponadto,\n",
    "wykazuje on relatywnie wysoką wartość zmiennej Danceability (0,75) w porównaniu do\n",
    "wcześniej wymienionej wartości średniej zmiennej Danceability dla całej populacji. W\n",
    "wyniku tego stwierdzono, iż **klaster „1” charakteryzuje się wyjątkową energicznością i\n",
    "pozytywnym nacechowaniem**, stanowiąc swoisty kontrapunkt w kontekście taneczności do\n",
    "innych klastrów z pominięciem klastra „2”. Klaster 2 wyróżnia się najwyższym średnim\n",
    "poziomem zmiennej Danceability (0,77) na tle pozostałych klastrów. Co więcej, posiada on\n",
    "również najwyższą średnią wartość zmiennej Tempo (129,73) oraz Speechiness (0,29).\n",
    "Wszystkie wspomniane wartości w sposób znaczący przewyższają średnie wartości cech\n",
    "utworów dla całej populacji. W efekcie sformułowano wniosek, że **klaster „2” wyróżnia się\n",
    "nadzwyczajną tanecznością oraz obfitością tekstów i wypowiedzi werbalnych, manifestując\n",
    "prędkość i intensywność charakterystyczną dla gatunku muzycznego, jakim jest rap oraz hiphop**. W dalszej kolejności ustalono, że klaster „3” posiada najniższe średnie wartości wśród\n",
    "wszystkich klastrów dla zmiennych Danceability (0,55), Energy (0,38), Speechiness (0,06)\n",
    "oraz Tempo (115,46). Wszystkie te wartości w sposób znaczny różnią się od średnich\n",
    "wartości parametrów wyznaczanych dla całej próbki. Dodatkowo, klaster ten cechuje się\n",
    "relatywnie niską średnią wartością parametru Valence (0,38). Na tej podstawie uznano, że\n",
    "**klaster „3” zawiera w sobie utwory określane jako akustyczne. Jednocześnie,\n",
    "charakteryzujące się on relatywnie smutnym tonem, przejawiającym się w niskim tempie oraz\n",
    "braku energetyzującego aspektu, co skutkuje nietanecznym i nieenergicznym charakterem\n",
    "utworów**. Wreszcie klaster „4”, który posiada najwyższą spośród wszystkich klastrów średnią\n",
    "wartość zmiennej Energy (0,73) oraz Liveness (0,61). Warto nadmienić, iż w tym przypadku,\n",
    "wartość dla zmiennej Liveness jest rekordowo wysoka na tle średnich wartości tej zmiennej w\n",
    "pozostałych klastrach (oscylują one wokół wartości 0,15). Finalnie stwierdzono, że **klaster\n",
    "„4” posiada wyjątkowo energiczny charakter, który jednak nie wiąże się z tanecznością, lecz\n",
    "jest wynikiem znaczącego uczestnictwa publiczności, co sugeruje występowanie zapisów\n",
    "koncertowych w tym klastrze**.\n"
   ]
  },
  {
   "cell_type": "code",
   "execution_count": 168,
   "id": "4887674a-ed4b-4d3e-9522-335861fd32c8",
   "metadata": {},
   "outputs": [
    {
     "data": {
      "text/plain": [
       "KMean_group\n",
       "1    529\n",
       "0    417\n",
       "2    309\n",
       "3    195\n",
       "4     93\n",
       "Name: count, dtype: int64"
      ]
     },
     "execution_count": 168,
     "metadata": {},
     "output_type": "execute_result"
    }
   ],
   "source": [
    "df['KMean_group'].value_counts()"
   ]
  },
  {
   "cell_type": "code",
   "execution_count": 169,
   "id": "33a12682-bf50-4b0b-9a9d-a567e0f55553",
   "metadata": {
    "tags": []
   },
   "outputs": [
    {
     "data": {
      "image/png": "[encoded data removed]",
      "text/plain": [
       "<Figure size 1000x700 with 1 Axes>"
      ]
     },
     "metadata": {},
     "output_type": "display_data"
    }
   ],
   "source": [
    "# tworzenie wykresu kołowego liczebności oraz liczności klastrów\n",
    "new_categories_order = ['0', '1', '2', '3', '4']\n",
    "new_observations_order = [417, 529, 309, 195, 93]  \n",
    "\n",
    "plt.figure(figsize=(10, 7), facecolor='white')\n",
    "\n",
    "def my_autopct(pct):\n",
    "    total = sum(new_observations_order)\n",
    "    count = int(round(pct/100*total))\n",
    "    return '{:.1f}%\\n({:,.0f})'.format(pct, count)\n",
    "\n",
    "plt.pie(new_observations_order, autopct=my_autopct, startangle=140)\n",
    "plt.legend(new_categories_order, title='Klaster')\n",
    "plt.title('Liczność oraz liczebność klastrów')\n",
    "plt.axis('equal')  \n",
    "plt.show()\n"
   ]
  },
  {
   "cell_type": "markdown",
   "id": "696c5825-ea87-4769-9934-f49b41372679",
   "metadata": {},
   "source": [
    "Powyższa wizualizacja jednoznacznie wskazuje na znaczące\n",
    "różnicę w liczebnościach klastrów. Klastry „0” oraz „1” są grupami najliczniejszym i łącznie\n",
    "stanowią ponad połowę liczebności całej populacji. Podczas gdy najmniej liczny klaster „4”\n",
    "posiada relatywnie niską liczność wynoszącą zaledwie 6%."
   ]
  },
  {
   "cell_type": "markdown",
   "id": "984e5291-83f9-4bc4-9174-020466418f64",
   "metadata": {},
   "source": [
    "### Boxploty wg. klastrów patrząc na zmienną Streams"
   ]
  },
  {
   "cell_type": "code",
   "execution_count": 170,
   "id": "96780d9c-cca0-499b-a7f9-f5a72b07e7b2",
   "metadata": {},
   "outputs": [
    {
     "data": {
      "text/plain": [
       "KMean_group\n",
       "0    6.296146e+06\n",
       "1    6.506471e+06\n",
       "2    5.856432e+06\n",
       "3    6.670360e+06\n",
       "4    6.415982e+06\n",
       "Name: Streams, dtype: float64"
      ]
     },
     "execution_count": 170,
     "metadata": {},
     "output_type": "execute_result"
    }
   ],
   "source": [
    "df.groupby('KMean_group')['Streams'].mean() #średnie wartości Stream dla każdego klastra"
   ]
  },
  {
   "cell_type": "code",
   "execution_count": 171,
   "id": "f868c3f7-e2a2-4969-8cfb-7f1f1d1faf6d",
   "metadata": {},
   "outputs": [
    {
     "data": {
      "text/plain": [
       "KMean_group\n",
       "0    5298893.0\n",
       "1    5211351.0\n",
       "2    5241227.0\n",
       "3    5446609.0\n",
       "4    5594561.0\n",
       "Name: Streams, dtype: float64"
      ]
     },
     "execution_count": 171,
     "metadata": {},
     "output_type": "execute_result"
    }
   ],
   "source": [
    "df.groupby('KMean_group')['Streams'].median()"
   ]
  },
  {
   "cell_type": "code",
   "execution_count": 172,
   "id": "3312a7b0-e780-4050-9bc8-3a368537c842",
   "metadata": {},
   "outputs": [
    {
     "data": {
      "image/png": "[encoded data removed]",
      "text/plain": [
       "<Figure size 640x480 with 1 Axes>"
      ]
     },
     "metadata": {},
     "output_type": "display_data"
    }
   ],
   "source": [
    "sns.boxplot(x = 'KMean_group', y = 'Streams', data = df)\n",
    "plt.ticklabel_format(style='scientific', axis='y', scilimits=(0,0), useMathText=True)\n",
    "plt.title('Wykresy pudełkowe')\n",
    "plt.xlabel('Klaster')\n",
    "plt.tight_layout()\n",
    "#plt.savefig('Boxplocik')\n",
    "plt.show()"
   ]
  },
  {
   "cell_type": "markdown",
   "id": "0ba6ae17-5795-4c5f-b8be-a1218486a783",
   "metadata": {},
   "source": [
    "ile jest obserwacji odstających w całym klastrze?"
   ]
  },
  {
   "cell_type": "code",
   "execution_count": 173,
   "id": "746c4157-fbb4-4360-86cd-ff662edea1d8",
   "metadata": {},
   "outputs": [],
   "source": [
    "klaster_0 = df.query('KMean_group == 0')\n",
    "klaster_1 = df.query('KMean_group == 1')\n",
    "klaster_2 = df.query('KMean_group == 2')\n",
    "klaster_3 = df.query('KMean_group == 3')\n",
    "klaster_4 = df.query('KMean_group == 4')"
   ]
  },
  {
   "cell_type": "code",
   "execution_count": 174,
   "id": "757c8d76-8692-4ec9-a5a3-4a27e7b6397f",
   "metadata": {},
   "outputs": [
    {
     "data": {
      "text/plain": [
       "417"
      ]
     },
     "execution_count": 174,
     "metadata": {},
     "output_type": "execute_result"
    }
   ],
   "source": [
    "len(klaster_0)"
   ]
  },
  {
   "cell_type": "code",
   "execution_count": 175,
   "id": "2a03cc7c-7b6f-473a-a6f0-5a0075b86b7c",
   "metadata": {},
   "outputs": [
    {
     "name": "stdout",
     "output_type": "stream",
     "text": [
      "Liczba obserwacji odstających w klastrze 0: 52. Czyli 12% całkowitej populacji tego klastra. \n",
      "Liczba obserwacji odstających w klastrze 1: 61. Czyli 11% całkowitej populacji tego klastra. \n",
      "Liczba obserwacji odstających w klastrze 2: 31. Czyli 10% całkowitej populacji tego klastra. \n",
      "Liczba obserwacji odstających w klastrze 3: 18. Czyli 9% całkowitej populacji tego klastra. \n",
      "Liczba obserwacji odstających w klastrze 4: 4. Czyli 4% całkowitej populacji tego klastra. \n"
     ]
    }
   ],
   "source": [
    "numer_klastra=0\n",
    "for x in [klaster_0, klaster_1,klaster_2,klaster_3,klaster_4]:\n",
    "    Q1 = x['Streams'].quantile(0.25)\n",
    "    Q3 = x['Streams'].quantile(0.75)\n",
    "    IQR = Q3 - Q1\n",
    "    # Definicja granic odstępowych (wąsów)\n",
    "    lower_bound = Q1 - 1.5 * IQR\n",
    "    upper_bound = Q3 + 1.5 * IQR\n",
    "    # Zliczenie obserwacji odstających w kolumnie 'Streams'\n",
    "    outliers = ((x['Streams'] < lower_bound) | (x['Streams'] > upper_bound)).sum()\n",
    "    procent = (outliers/len(x)) * 100\n",
    "    print(f\"Liczba obserwacji odstających w klastrze {numer_klastra}: {outliers}. Czyli {int(procent)}% całkowitej populacji tego klastra. \")\n",
    "    numer_klastra+=1"
   ]
  },
  {
   "cell_type": "markdown",
   "id": "ec37b433-064f-4829-b0c7-a877ab5725b5",
   "metadata": {},
   "source": [
    "**Wnioski:**<br>\n",
    "Wykresy pudełkowe wskazują na dużą liczbę\n",
    "obserwacji odstających w niemal każdym klastrze. Jednakże, w wyniku dalszej analizy\n",
    "wykazano, iż maksymalny udział obserwacji odstających w klastrze wynosi około 12%.\n",
    "Ostatecznie **nie zdecydowano się na usunięcie, bądź przekształcenie obserwacji odstających**.\n",
    "Ponadto, na podstawie wspomnianego wykresu stwierdzono występowanie **prawostronnej\n",
    "asymetrii rozkładu we wszystkich klastrach**, co jest zgodne z logiką badania, ponieważ baza\n",
    "danych zawiera jedyne utwory najczęściej odtwarzane – istnieje pewien dolny próg odcięcia,\n",
    "ponieważ w próbie nie występują utwory z relatywnie małą liczbą odtworzeń. Co więcej,\n",
    "klastry są zróżnicowane pod względem wielkości rozstępu międzykwartylowego –\n",
    "największy rozstęp międzykwartylowy występuje w klastrach „4” oraz „3”, natomiast\n",
    "najmniejszy w klastrze „2”. Dodatkowo, **wartości median w klastrach oscylują wokół\n",
    "niemalże tej samej wartości**. Zatem stwierdzono zasadność weryfikacji hipotezy o równości\n",
    "średnich we wszystkich podpróbach (klastrach)."
   ]
  },
  {
   "cell_type": "markdown",
   "id": "a0140e9f-45d2-4315-bcd0-9aa4816d6028",
   "metadata": {},
   "source": [
    "### współczynnik Giniego"
   ]
  },
  {
   "cell_type": "code",
   "execution_count": 176,
   "id": "d7086b0c-7a3b-4afa-80be-60135653747f",
   "metadata": {},
   "outputs": [],
   "source": [
    "#Wskaźnik ten osiągnąłby wartość 0 (rozkład jednorodny), gdyby wszystkie osoby miały ten sam dochód, \n",
    "#natomiast wartość 1, gdyby wszystkie osoby poza jedną miały dochód zerowy. \n",
    "#Zatem, im wyższa jest wartość wskaźnika, tym większy jest stopień koncentracji dochodów i większe jest ich zróżnicowanie.\n",
    "\n",
    "\n",
    "#Analogicznie w tym przypadku np. dla zmiennej Danceability\n",
    "#Wskaźnik osiąga wartość 0, gdy wszystkie utwory mają ten sam poziom Danceability\n",
    "#natomiast wartość 1, gdy wszystkie utwory poza jednym miały Danceability równe 0"
   ]
  },
  {
   "cell_type": "code",
   "execution_count": 177,
   "id": "20538bb4-57cb-4261-a05c-5c5ecb545931",
   "metadata": {},
   "outputs": [],
   "source": [
    "# funkcja do wyliczania współczynnika Giniego\n",
    "def gini(x):\n",
    "    total = 0\n",
    "    for i, xi in enumerate(x[:-1], 1):\n",
    "        total += np.sum(np.abs(xi - x[i:]))\n",
    "    return total / (len(x)**2 * np.mean(x))"
   ]
  },
  {
   "cell_type": "code",
   "execution_count": 178,
   "id": "ea172aa6-70f4-4269-8d06-6f9bc40f4c15",
   "metadata": {},
   "outputs": [
    {
     "name": "stdout",
     "output_type": "stream",
     "text": [
      "KLASTER 0:\n",
      "wsp gini dla zmiennej Streams: 0.0\n",
      "wsp gini dla zmiennej Danceability: 0.11\n",
      "wsp gini dla zmiennej Energy: 0.11\n",
      "wsp gini dla zmiennej Loudness: -0.14\n",
      "wsp gini dla zmiennej Speechiness: 0.31\n",
      "wsp gini dla zmiennej Acousticness: 0.51\n",
      "wsp gini dla zmiennej Liveness: 0.26\n",
      "wsp gini dla zmiennej Tempo: 0.14\n",
      "wsp gini dla zmiennej Duration (ms): 0.11\n",
      "wsp gini dla zmiennej Valence: 0.24\n",
      "średni wsp gini dla klastra wynosi 0.17\n",
      "KLASTER 1:\n",
      "wsp gini dla zmiennej Streams: 0.0\n",
      "wsp gini dla zmiennej Danceability: 0.07\n",
      "wsp gini dla zmiennej Energy: 0.09\n",
      "wsp gini dla zmiennej Loudness: -0.18\n",
      "wsp gini dla zmiennej Speechiness: 0.32\n",
      "wsp gini dla zmiennej Acousticness: 0.52\n",
      "wsp gini dla zmiennej Liveness: 0.32\n",
      "wsp gini dla zmiennej Tempo: 0.13\n",
      "wsp gini dla zmiennej Duration (ms): 0.11\n",
      "wsp gini dla zmiennej Valence: 0.11\n",
      "średni wsp gini dla klastra wynosi 0.15\n",
      "KLASTER 2:\n",
      "wsp gini dla zmiennej Streams: -0.0\n",
      "wsp gini dla zmiennej Danceability: 0.09\n",
      "wsp gini dla zmiennej Energy: 0.1\n",
      "wsp gini dla zmiennej Loudness: -0.16\n",
      "wsp gini dla zmiennej Speechiness: 0.18\n",
      "wsp gini dla zmiennej Acousticness: 0.51\n",
      "wsp gini dla zmiennej Liveness: 0.3\n",
      "wsp gini dla zmiennej Tempo: 0.14\n",
      "wsp gini dla zmiennej Duration (ms): 0.12\n",
      "wsp gini dla zmiennej Valence: 0.21\n",
      "średni wsp gini dla klastra wynosi 0.15\n",
      "KLASTER 3:\n",
      "wsp gini dla zmiennej Streams: 0.01\n",
      "wsp gini dla zmiennej Danceability: 0.15\n",
      "wsp gini dla zmiennej Energy: 0.19\n",
      "wsp gini dla zmiennej Loudness: -0.17\n",
      "wsp gini dla zmiennej Speechiness: 0.36\n",
      "wsp gini dla zmiennej Acousticness: 0.13\n",
      "wsp gini dla zmiennej Liveness: 0.29\n",
      "wsp gini dla zmiennej Tempo: 0.15\n",
      "wsp gini dla zmiennej Duration (ms): 0.16\n",
      "wsp gini dla zmiennej Valence: 0.31\n",
      "średni wsp gini dla klastra wynosi 0.16\n",
      "KLASTER 4:\n",
      "wsp gini dla zmiennej Streams: 0.02\n",
      "wsp gini dla zmiennej Danceability: 0.12\n",
      "wsp gini dla zmiennej Energy: 0.11\n",
      "wsp gini dla zmiennej Loudness: -0.21\n",
      "wsp gini dla zmiennej Speechiness: 0.47\n",
      "wsp gini dla zmiennej Acousticness: 0.51\n",
      "wsp gini dla zmiennej Liveness: 0.15\n",
      "wsp gini dla zmiennej Tempo: 0.14\n",
      "wsp gini dla zmiennej Duration (ms): 0.15\n",
      "wsp gini dla zmiennej Valence: 0.23\n",
      "średni wsp gini dla klastra wynosi 0.17\n"
     ]
    }
   ],
   "source": [
    "variables = ['Streams', 'Danceability', 'Energy', 'Loudness', 'Speechiness',\n",
    "       'Acousticness', 'Liveness', 'Tempo', 'Duration (ms)', 'Valence']\n",
    "l=0\n",
    "for i in [klaster_0, klaster_1, klaster_2, klaster_3, klaster_4]:\n",
    "    print(f\"KLASTER {l}:\")\n",
    "    l +=1\n",
    "    ginis = []\n",
    "    for j in variables:\n",
    "        array_to_gini = np.array(i[j])\n",
    "        ginis.append(gini(array_to_gini))\n",
    "        print(f\"wsp gini dla zmiennej {j}: {round(gini(array_to_gini),2)}\")\n",
    "        \n",
    "    print(f\"średni wsp gini dla klastra wynosi {round(np.mean(ginis),2)}\")"
   ]
  },
  {
   "cell_type": "code",
   "execution_count": 179,
   "id": "3b36ed02-8a79-444f-a4c3-c7cc73e668ee",
   "metadata": {},
   "outputs": [],
   "source": [
    "#im niższy wsp giniego tym bardziej klastry są homogeniczne a zatem lepiej wyseparowane\n",
    "#mniej zmiennych które mają skrajne wartości"
   ]
  },
  {
   "cell_type": "markdown",
   "id": "9b41357f-6f71-405e-913c-733baaafb624",
   "metadata": {},
   "source": [
    "WNIOSKI:\n",
    "\n",
    "średnie współczyniki giniego dla klastrów są ok\n",
    "\n",
    "rzeczywiście dobry podział na liczbę odtworzeń (niskie wsp giniego dla Streams)\n",
    "\n",
    "z punktu widzenia późniejszej procedury Manna Whitneya interesują nas tylko tamte wyniki"
   ]
  },
  {
   "cell_type": "markdown",
   "id": "257f437f-b0aa-42e3-a7aa-2d8d4e430923",
   "metadata": {},
   "source": [
    "# Analiza playlist użytkowników"
   ]
  },
  {
   "cell_type": "code",
   "execution_count": 180,
   "id": "8dc4a79a-f5ca-4e74-968c-249ffe788ef6",
   "metadata": {},
   "outputs": [],
   "source": [
    "df_all = df.copy()\n",
    "df_0 = df.query('KMean_group == 0' )\n",
    "df_1 = df.query('KMean_group == 1' )\n",
    "df_2 = df.query('KMean_group == 2' )\n",
    "df_3 = df.query('KMean_group == 3' )\n",
    "df_4 = df.query('KMean_group == 4' )"
   ]
  },
  {
   "cell_type": "code",
   "execution_count": 181,
   "id": "6aa3f1a6-3bcc-4f32-bca2-0fbd6492c3e6",
   "metadata": {},
   "outputs": [],
   "source": [
    "playlists = pd.read_csv('bazy_danych/spotify_users_playlists.csv', on_bad_lines='skip')"
   ]
  },
  {
   "cell_type": "code",
   "execution_count": 182,
   "id": "79efd248-b90a-41e5-ad8c-16eb17a90296",
   "metadata": {},
   "outputs": [
    {
     "data": {
      "text/plain": [
       "(12891680, 4)"
      ]
     },
     "execution_count": 182,
     "metadata": {},
     "output_type": "execute_result"
    }
   ],
   "source": [
    "playlists.shape"
   ]
  },
  {
   "cell_type": "code",
   "execution_count": 183,
   "id": "11631e94-94af-4a9b-a611-437a9177453f",
   "metadata": {},
   "outputs": [
    {
     "data": {
      "text/html": [
       "<div>\n",
       "<style scoped>\n",
       "    .dataframe tbody tr th:only-of-type {\n",
       "        vertical-align: middle;\n",
       "    }\n",
       "\n",
       "    .dataframe tbody tr th {\n",
       "        vertical-align: top;\n",
       "    }\n",
       "\n",
       "    .dataframe thead th {\n",
       "        text-align: right;\n",
       "    }\n",
       "</style>\n",
       "<table border=\"1\" class=\"dataframe\">\n",
       "  <thead>\n",
       "    <tr style=\"text-align: right;\">\n",
       "      <th></th>\n",
       "      <th>user_id</th>\n",
       "      <th>\"artistname\"</th>\n",
       "      <th>\"trackname\"</th>\n",
       "      <th>\"playlistname\"</th>\n",
       "    </tr>\n",
       "  </thead>\n",
       "  <tbody>\n",
       "    <tr>\n",
       "      <th>0</th>\n",
       "      <td>9cc0cfd4d7d7885102480dd99e7a90d6</td>\n",
       "      <td>Elvis Costello</td>\n",
       "      <td>(The Angels Wanna Wear My) Red Shoes</td>\n",
       "      <td>HARD ROCK 2010</td>\n",
       "    </tr>\n",
       "    <tr>\n",
       "      <th>1</th>\n",
       "      <td>9cc0cfd4d7d7885102480dd99e7a90d6</td>\n",
       "      <td>Elvis Costello &amp; The Attractions</td>\n",
       "      <td>(What's So Funny 'Bout) Peace, Love And Unders...</td>\n",
       "      <td>HARD ROCK 2010</td>\n",
       "    </tr>\n",
       "    <tr>\n",
       "      <th>2</th>\n",
       "      <td>9cc0cfd4d7d7885102480dd99e7a90d6</td>\n",
       "      <td>Tiffany Page</td>\n",
       "      <td>7 Years Too Late</td>\n",
       "      <td>HARD ROCK 2010</td>\n",
       "    </tr>\n",
       "    <tr>\n",
       "      <th>3</th>\n",
       "      <td>9cc0cfd4d7d7885102480dd99e7a90d6</td>\n",
       "      <td>Elvis Costello &amp; The Attractions</td>\n",
       "      <td>Accidents Will Happen</td>\n",
       "      <td>HARD ROCK 2010</td>\n",
       "    </tr>\n",
       "    <tr>\n",
       "      <th>4</th>\n",
       "      <td>9cc0cfd4d7d7885102480dd99e7a90d6</td>\n",
       "      <td>Elvis Costello</td>\n",
       "      <td>Alison</td>\n",
       "      <td>HARD ROCK 2010</td>\n",
       "    </tr>\n",
       "  </tbody>\n",
       "</table>\n",
       "</div>"
      ],
      "text/plain": [
       "                            user_id                      \"artistname\"  \\\n",
       "0  9cc0cfd4d7d7885102480dd99e7a90d6                    Elvis Costello   \n",
       "1  9cc0cfd4d7d7885102480dd99e7a90d6  Elvis Costello & The Attractions   \n",
       "2  9cc0cfd4d7d7885102480dd99e7a90d6                      Tiffany Page   \n",
       "3  9cc0cfd4d7d7885102480dd99e7a90d6  Elvis Costello & The Attractions   \n",
       "4  9cc0cfd4d7d7885102480dd99e7a90d6                    Elvis Costello   \n",
       "\n",
       "                                         \"trackname\"  \"playlistname\"  \n",
       "0               (The Angels Wanna Wear My) Red Shoes  HARD ROCK 2010  \n",
       "1  (What's So Funny 'Bout) Peace, Love And Unders...  HARD ROCK 2010  \n",
       "2                                   7 Years Too Late  HARD ROCK 2010  \n",
       "3                              Accidents Will Happen  HARD ROCK 2010  \n",
       "4                                             Alison  HARD ROCK 2010  "
      ]
     },
     "execution_count": 183,
     "metadata": {},
     "output_type": "execute_result"
    }
   ],
   "source": [
    "playlists.head()"
   ]
  },
  {
   "cell_type": "code",
   "execution_count": 184,
   "id": "cf860da0-bc96-48b5-8f67-d3200c5a74b3",
   "metadata": {},
   "outputs": [],
   "source": [
    "playlists = playlists.rename(columns=lambda x: x.replace('\"', \"\"))"
   ]
  },
  {
   "cell_type": "markdown",
   "id": "2beb6874-e30b-42d8-90a8-d6cdfe77aa63",
   "metadata": {},
   "source": [
    "## usunięcie duplikatów\n",
    "czyli utwory które występują więcej niż raz w danej playliście oraz usunięcie braków danych"
   ]
  },
  {
   "cell_type": "code",
   "execution_count": 185,
   "id": "4cce7380-4235-4bba-b39b-58e1e9345855",
   "metadata": {},
   "outputs": [
    {
     "data": {
      "text/plain": [
       "Index(['user_id', ' artistname', ' trackname', ' playlistname'], dtype='object')"
      ]
     },
     "execution_count": 185,
     "metadata": {},
     "output_type": "execute_result"
    }
   ],
   "source": [
    "playlists.columns"
   ]
  },
  {
   "cell_type": "code",
   "execution_count": 186,
   "id": "d1a10454-f35e-4174-a5eb-8b3d5b898791",
   "metadata": {},
   "outputs": [],
   "source": [
    "playlists = playlists.drop_duplicates(subset=[' artistname', ' trackname', ' playlistname'])"
   ]
  },
  {
   "cell_type": "code",
   "execution_count": 187,
   "id": "1f359230-b79a-4bae-9983-fdfc83815657",
   "metadata": {},
   "outputs": [],
   "source": [
    "playlists = playlists.dropna()"
   ]
  },
  {
   "cell_type": "code",
   "execution_count": 188,
   "id": "ad4ceff8-f602-4eac-a411-d50aac61d042",
   "metadata": {
    "tags": []
   },
   "outputs": [
    {
     "data": {
      "text/plain": [
       "(11013847, 4)"
      ]
     },
     "execution_count": 188,
     "metadata": {},
     "output_type": "execute_result"
    }
   ],
   "source": [
    "playlists.shape"
   ]
  },
  {
   "cell_type": "markdown",
   "id": "8d64697a-76d4-497a-b79f-d3c9aef8c0cb",
   "metadata": {},
   "source": [
    "## Jakie playlisty dominują w klastrze 0?"
   ]
  },
  {
   "cell_type": "code",
   "execution_count": 189,
   "id": "1c57ad56-0468-4ac7-8b4c-79ead13a8d3d",
   "metadata": {},
   "outputs": [],
   "source": [
    "razem = df_0.merge(playlists, left_on=['Song Name', 'Artist'], right_on=[' trackname', ' artistname'])"
   ]
  },
  {
   "cell_type": "code",
   "execution_count": 190,
   "id": "0afccece-89c0-498e-a03a-64d6ae7e5b32",
   "metadata": {},
   "outputs": [
    {
     "data": {
      "text/plain": [
       "(12186, 28)"
      ]
     },
     "execution_count": 190,
     "metadata": {},
     "output_type": "execute_result"
    }
   ],
   "source": [
    "razem.shape"
   ]
  },
  {
   "cell_type": "code",
   "execution_count": 191,
   "id": "88b07c65-0560-4b21-91a7-dfe6024b4587",
   "metadata": {},
   "outputs": [
    {
     "data": {
      "text/plain": [
       " playlistname\n",
       "Starred                  19\n",
       "Liked from Radio         18\n",
       "Chill                    13\n",
       "Favoritas de la radio    12\n",
       "Random                   11\n",
       "nice                     11\n",
       "My Shazam Tracks         10\n",
       "Rock                     10\n",
       "Curtida no Rádio         10\n",
       "2013                     10\n",
       "Pop                      10\n",
       "Workout                  10\n",
       "Várias                    9\n",
       "Mix                       9\n",
       "Indie                     9\n",
       "Name: count, dtype: int64"
      ]
     },
     "execution_count": 191,
     "metadata": {},
     "output_type": "execute_result"
    }
   ],
   "source": [
    "razem[' playlistname'].value_counts().sort_values(ascending=False).head(15)"
   ]
  },
  {
   "cell_type": "code",
   "execution_count": 192,
   "id": "0b7c14ec-e9a7-4e99-a853-778fb08f5c00",
   "metadata": {},
   "outputs": [],
   "source": [
    "#duża uwaga na Radio, Shazam\n",
    "#Workout, Rock, Chill"
   ]
  },
  {
   "cell_type": "markdown",
   "id": "44158b0a-041a-4f25-828b-9ad9b7a41afb",
   "metadata": {},
   "source": [
    "## Jakie playlisty dominują w klastrze 1?"
   ]
  },
  {
   "cell_type": "code",
   "execution_count": 193,
   "id": "ec28d711-9848-4efd-b2c3-b4b5c8de034b",
   "metadata": {},
   "outputs": [],
   "source": [
    "razem_1 = df_1.merge(playlists, left_on=['Song Name', 'Artist'], right_on=[' trackname', ' artistname'])"
   ]
  },
  {
   "cell_type": "code",
   "execution_count": 194,
   "id": "41364a44-633a-4bab-ad8a-9fa4e44646d1",
   "metadata": {},
   "outputs": [
    {
     "data": {
      "text/plain": [
       "(8434, 28)"
      ]
     },
     "execution_count": 194,
     "metadata": {},
     "output_type": "execute_result"
    }
   ],
   "source": [
    "razem_1.shape"
   ]
  },
  {
   "cell_type": "code",
   "execution_count": 195,
   "id": "4b4e47b3-dadc-45b2-85f7-8aaabb9c1846",
   "metadata": {},
   "outputs": [
    {
     "data": {
      "text/plain": [
       " playlistname\n",
       "Starred                  22\n",
       "Liked from Radio         17\n",
       "Christmas                11\n",
       "Party                    11\n",
       "Favoritas de la radio     9\n",
       "christmas                 9\n",
       "Music                     9\n",
       "Oldies                    8\n",
       "Work                      8\n",
       "Running                   8\n",
       "Jul                       8\n",
       "Albums                    8\n",
       "Random                    8\n",
       "workout                   8\n",
       "Workout                   7\n",
       "Name: count, dtype: int64"
      ]
     },
     "execution_count": 195,
     "metadata": {},
     "output_type": "execute_result"
    }
   ],
   "source": [
    "razem_1[' playlistname'].value_counts().sort_values(ascending=False).head(15)"
   ]
  },
  {
   "cell_type": "code",
   "execution_count": 196,
   "id": "dcf8ca69-1db3-449d-89b9-63023ec48099",
   "metadata": {},
   "outputs": [],
   "source": [
    "#znowu radio, christmas, workout, impreza"
   ]
  },
  {
   "cell_type": "markdown",
   "id": "f504bfad-40dd-43ca-8e4e-12e08296e6d5",
   "metadata": {},
   "source": [
    "## Jakie playlisty dominują w klastrze 2?"
   ]
  },
  {
   "cell_type": "code",
   "execution_count": 197,
   "id": "848aa13f-4b04-4366-b2ed-4a90c1dbb9de",
   "metadata": {},
   "outputs": [],
   "source": [
    "razem_2 = df_2.merge(playlists, left_on=['Song Name', 'Artist'], right_on=[' trackname', ' artistname'])"
   ]
  },
  {
   "cell_type": "code",
   "execution_count": 198,
   "id": "062e840e-3a24-47a8-8952-146fd07dbba5",
   "metadata": {},
   "outputs": [
    {
     "data": {
      "text/plain": [
       "(266, 28)"
      ]
     },
     "execution_count": 198,
     "metadata": {},
     "output_type": "execute_result"
    }
   ],
   "source": [
    "razem_2.shape"
   ]
  },
  {
   "cell_type": "code",
   "execution_count": 199,
   "id": "445eb86c-51ff-4517-98c6-c878fd3100ce",
   "metadata": {},
   "outputs": [
    {
     "data": {
      "text/plain": [
       " playlistname\n",
       "Rap                                        2\n",
       "Starred                                    2\n",
       "Hip-Hop                                    2\n",
       "Running                                    2\n",
       "NYTU                                       1\n",
       "I listen to this and you can't stop me     1\n",
       "J. Cole - 2014 Forest Hills Drive          1\n",
       "Pre-Game Vibe                              1\n",
       "winter 2014 vibez                          1\n",
       "J. Cole — 2014 Forest Hills Drive          1\n",
       "J. Cole – 2014 Forest Hills Drive          1\n",
       "59% Win Ratio                              1\n",
       "vIb3z                                      1\n",
       "POP POSADA                                 1\n",
       "New School                                 1\n",
       "Name: count, dtype: int64"
      ]
     },
     "execution_count": 199,
     "metadata": {},
     "output_type": "execute_result"
    }
   ],
   "source": [
    "razem_2[' playlistname'].value_counts().sort_values(ascending=False).head(15)"
   ]
  },
  {
   "cell_type": "code",
   "execution_count": 200,
   "id": "686dfcf0-2263-4848-a426-04e11f14c9c2",
   "metadata": {},
   "outputs": [],
   "source": [
    "#potwierdzenie że raczej rap/hipohp"
   ]
  },
  {
   "cell_type": "markdown",
   "id": "fbba616a-c566-4d63-a31a-609b719a7a2b",
   "metadata": {},
   "source": [
    "## Jakie playlisty dominują w klastrze 3?"
   ]
  },
  {
   "cell_type": "code",
   "execution_count": 201,
   "id": "64b0effd-3f0c-4c32-b001-be96c1fd3004",
   "metadata": {},
   "outputs": [],
   "source": [
    "razem_3 = df_3.merge(playlists, left_on=['Song Name', 'Artist'], right_on=[' trackname', ' artistname'])"
   ]
  },
  {
   "cell_type": "code",
   "execution_count": 202,
   "id": "d7cb0cf7-19e5-48b0-a7d1-cab04859c5e8",
   "metadata": {},
   "outputs": [
    {
     "data": {
      "text/plain": [
       "(5917, 28)"
      ]
     },
     "execution_count": 202,
     "metadata": {},
     "output_type": "execute_result"
    }
   ],
   "source": [
    "razem_3.shape"
   ]
  },
  {
   "cell_type": "code",
   "execution_count": 203,
   "id": "efaf440d-3030-49f5-9e02-00ef0b066692",
   "metadata": {},
   "outputs": [
    {
     "data": {
      "text/plain": [
       " playlistname\n",
       "Starred                  21\n",
       "Liked from Radio         16\n",
       "Christmas                15\n",
       "xmas                     11\n",
       "Xmas                     11\n",
       "Jul                      10\n",
       "Christmas!                9\n",
       "Christmas Playlist        9\n",
       "Chill                     9\n",
       "Favoritas de la radio     9\n",
       "Christmas 2014            9\n",
       "Christmas Party           8\n",
       "Christmas 2013            8\n",
       "christmas                 8\n",
       "Merry Christmas Y'all     7\n",
       "Name: count, dtype: int64"
      ]
     },
     "execution_count": 203,
     "metadata": {},
     "output_type": "execute_result"
    }
   ],
   "source": [
    "razem_3[' playlistname'].value_counts().sort_values(ascending=False).head(15)"
   ]
  },
  {
   "cell_type": "code",
   "execution_count": 204,
   "id": "22a2e3d0-4e06-483d-8ab6-311159e3456d",
   "metadata": {},
   "outputs": [],
   "source": [
    "#mega świątecznie - dziwne bo wg średniej Valence są to utwory relatywnie mało pozytywne i nieenergiczne\n",
    "#znowu radio"
   ]
  },
  {
   "cell_type": "markdown",
   "id": "cab4e213-c9f3-4af7-bdad-c0123326d5a7",
   "metadata": {},
   "source": [
    "## Jakie playlisty dominują w klastrze 4?"
   ]
  },
  {
   "cell_type": "code",
   "execution_count": 205,
   "id": "8dc6eac2-2c67-4c8a-887e-c7f1fac45ba0",
   "metadata": {},
   "outputs": [],
   "source": [
    "razem_4 = df_4.merge(playlists, left_on=['Song Name', 'Artist'], right_on=[' trackname', ' artistname'])"
   ]
  },
  {
   "cell_type": "code",
   "execution_count": 206,
   "id": "211b04c1-e9f2-42c2-9bf6-a6218be10b3e",
   "metadata": {},
   "outputs": [
    {
     "data": {
      "text/plain": [
       "(2454, 28)"
      ]
     },
     "execution_count": 206,
     "metadata": {},
     "output_type": "execute_result"
    }
   ],
   "source": [
    "razem_4.shape"
   ]
  },
  {
   "cell_type": "code",
   "execution_count": 207,
   "id": "387aa87c-c3e6-4447-bba0-cc7406eaa7af",
   "metadata": {},
   "outputs": [
    {
     "data": {
      "text/plain": [
       " playlistname\n",
       "Starred                    6\n",
       "Liked from Radio           5\n",
       "Mix                        4\n",
       "Rock                       4\n",
       "Old Music (Before 2010)    3\n",
       "Music                      3\n",
       "Ultimate Safe For Work!    3\n",
       "Favoritas                  3\n",
       "Favoritas de la radio      3\n",
       "Wedding                    3\n",
       "Everything at once         3\n",
       "☁☼☁                        3\n",
       "rock                       3\n",
       "Oldies                     3\n",
       "2010                       3\n",
       "Name: count, dtype: int64"
      ]
     },
     "execution_count": 207,
     "metadata": {},
     "output_type": "execute_result"
    }
   ],
   "source": [
    "razem_4[' playlistname'].value_counts().sort_values(ascending=False).head(15)"
   ]
  },
  {
   "cell_type": "code",
   "execution_count": 208,
   "id": "42c5b3b2-dd87-4436-b841-73a8328e3217",
   "metadata": {},
   "outputs": [],
   "source": [
    "#znowu radio\n",
    "#Rock\n",
    "#duży mix"
   ]
  },
  {
   "cell_type": "markdown",
   "id": "96dc4173-51ab-4a64-8c60-84d75a1ba304",
   "metadata": {},
   "source": [
    "**Wnioski:** <br>\n",
    "**Uzyskano potwierdzenie wniosków wysnutych w rozdziale \"Klastrowanie K-średnich\"**. Najliczniejszy klaster „0” w rzeczywistości zawiera tytuły playlist wskazujące na\n",
    "jego melancholijnyy charakter (Chill, Nice, Indie). Natomiast utwory muzyczne z klastra „1”\n",
    "często zawierają się w playlistach przeznaczonych do uprawiania sportu, aktywności\n",
    "fizycznej czy zabawy (Party, Running, Workout, Christmas), co dodatkowo poświadcza o\n",
    "wysokiej taneczności oraz energiczności utworów znajdujących się w tym klastrze. Niniejsza\n",
    "analiza upewniła również o wcześniejszym przypuszczeniu jakoby klaster „2” zawierał\n",
    "utwory z gatunku hip-hop lub rap. Biorąc pod rozważania klaster „3” potwierdzono jego\n",
    "melancholijny, mało energiczny oraz spokojny ton, który również cechuje playlisty utworów\n",
    "świątecznych (Christmas, Xmas, Xmas, Christmas !). Klaster „4” okazał się być bardzo\n",
    "zróżnicowany pod względem tytułów playlist, zatem niniejsza analiza nie pozwoliła na\n",
    "jednoznaczne potwierdzenie empirycznego charakteru tego klastra. Co więcej, jednym z\n",
    "najbardziej interesujących aspektów analizy jest zaobserwowane zjawisko częstego\n",
    "występowania playlist zatytułowanych w sposób sugerujący iż są one zbiorem utworów, które\n",
    "zostały wcześniej odkryte i usłyszane na innych platformach, takich jak radio czy serwis\n",
    "Shazam. Ten fakt może wskazywać na nie tylko istnienie zaobserwowanego przez grupę Vox\n",
    "(2022) zjawiska „TikTok-to-Spotify pipeline”, ale także potencjalnych, analogicznie\n",
    "działających zjawisk, które określić można jako „Radio-to-Spotify pipeline” czy też „Shazamto-Spotify pipeline”. Wskazane jest zatem dalsze badanie tego zjawiska w celu pełniejszego\n",
    "zrozumienia. W związku z tym, w dokumencie PDF znaleźć można\n",
    "szczegółową analizę zjawiska „TikTok-to-Spotify pipeline”, w celu weryfikacji jego\n",
    "rzeczywistego istnienia.\n"
   ]
  },
  {
   "cell_type": "markdown",
   "id": "af9a4102-a05d-4125-911c-a888ce3f091a",
   "metadata": {},
   "source": [
    "# Klastrowanie - ujęcie makro"
   ]
  },
  {
   "cell_type": "markdown",
   "id": "e0adc9bb-37e4-41e1-a75d-9fef0823695d",
   "metadata": {},
   "source": [
    "## ANOVA i Kruskal-Wallis"
   ]
  },
  {
   "cell_type": "markdown",
   "id": "dcc5160f-3f88-43db-aa3e-f7c41ff08ea5",
   "metadata": {},
   "source": [
    "TEST ANOVA, czy średnie charakterystyki utworów w każdym klastrze są takie same?"
   ]
  },
  {
   "cell_type": "code",
   "execution_count": 209,
   "id": "69fed8e9-223a-4935-8ff3-d4402adcc8a0",
   "metadata": {},
   "outputs": [
    {
     "data": {
      "text/plain": [
       "KMean_group\n",
       "1    529\n",
       "0    417\n",
       "2    309\n",
       "3    195\n",
       "4     93\n",
       "Name: count, dtype: int64"
      ]
     },
     "execution_count": 209,
     "metadata": {},
     "output_type": "execute_result"
    }
   ],
   "source": [
    "df_all['KMean_group'].value_counts()"
   ]
  },
  {
   "cell_type": "code",
   "execution_count": 210,
   "id": "6a95b2bb-78b2-4c57-a82c-9efeb87b4e1d",
   "metadata": {},
   "outputs": [],
   "source": [
    "# analiza wariancji ANOVA\n",
    "# H0: średnie we wszystkich populacjach są równe\n",
    "# założenia testu ANOVA: \n",
    "# zmienna objaśniana w podgrupach ma rozkład normalny oraz wariancje w podgrupach są równe (homogeniczność wariancji)"
   ]
  },
  {
   "cell_type": "code",
   "execution_count": 211,
   "id": "c9b07e1b-50ee-4ce0-8e50-874845137fe9",
   "metadata": {},
   "outputs": [
    {
     "name": "stdout",
     "output_type": "stream",
     "text": [
      "Test Jarque-Bera zmiennej Danceability dla klastra 0: 0.005\n",
      "Test Jarque-Bera zmiennej Danceability dla klastra 1: 0.002\n",
      "Test Jarque-Bera zmiennej Danceability dla klastra 2: 0.0\n",
      "Test Jarque-Bera zmiennej Danceability dla klastra 3: 0.588\n",
      "Test Jarque-Bera zmiennej Danceability dla klastra 4: 0.007\n",
      "Test Jarque-Bera zmiennej Energy dla klastra 0: 0.123\n",
      "Test Jarque-Bera zmiennej Energy dla klastra 1: 0.0\n",
      "Test Jarque-Bera zmiennej Energy dla klastra 2: 0.712\n",
      "Test Jarque-Bera zmiennej Energy dla klastra 3: 0.517\n",
      "Test Jarque-Bera zmiennej Energy dla klastra 4: 0.081\n",
      "Test Jarque-Bera zmiennej Loudness dla klastra 0: 0.02\n",
      "Test Jarque-Bera zmiennej Loudness dla klastra 1: 0.0\n",
      "Test Jarque-Bera zmiennej Loudness dla klastra 2: 0.001\n",
      "Test Jarque-Bera zmiennej Loudness dla klastra 3: 0.0\n",
      "Test Jarque-Bera zmiennej Loudness dla klastra 4: 0.0\n",
      "Test Jarque-Bera zmiennej Speechiness dla klastra 0: 0.0\n",
      "Test Jarque-Bera zmiennej Speechiness dla klastra 1: 0.0\n",
      "Test Jarque-Bera zmiennej Speechiness dla klastra 2: 0.0\n",
      "Test Jarque-Bera zmiennej Speechiness dla klastra 3: 0.0\n",
      "Test Jarque-Bera zmiennej Speechiness dla klastra 4: 0.0\n",
      "Test Jarque-Bera zmiennej Acousticness dla klastra 0: 0.0\n",
      "Test Jarque-Bera zmiennej Acousticness dla klastra 1: 0.0\n",
      "Test Jarque-Bera zmiennej Acousticness dla klastra 2: 0.0\n",
      "Test Jarque-Bera zmiennej Acousticness dla klastra 3: 0.004\n",
      "Test Jarque-Bera zmiennej Acousticness dla klastra 4: 0.0\n",
      "Test Jarque-Bera zmiennej Liveness dla klastra 0: 0.0\n",
      "Test Jarque-Bera zmiennej Liveness dla klastra 1: 0.0\n",
      "Test Jarque-Bera zmiennej Liveness dla klastra 2: 0.0\n",
      "Test Jarque-Bera zmiennej Liveness dla klastra 3: 0.0\n",
      "Test Jarque-Bera zmiennej Liveness dla klastra 4: 0.099\n",
      "Test Jarque-Bera zmiennej Tempo dla klastra 0: 0.001\n",
      "Test Jarque-Bera zmiennej Tempo dla klastra 1: 0.0\n",
      "Test Jarque-Bera zmiennej Tempo dla klastra 2: 0.002\n",
      "Test Jarque-Bera zmiennej Tempo dla klastra 3: 0.09\n",
      "Test Jarque-Bera zmiennej Tempo dla klastra 4: 0.394\n",
      "Test Jarque-Bera zmiennej Duration (ms) dla klastra 0: 0.0\n",
      "Test Jarque-Bera zmiennej Duration (ms) dla klastra 1: 0.0\n",
      "Test Jarque-Bera zmiennej Duration (ms) dla klastra 2: 0.0\n",
      "Test Jarque-Bera zmiennej Duration (ms) dla klastra 3: 0.0\n",
      "Test Jarque-Bera zmiennej Duration (ms) dla klastra 4: 0.0\n",
      "Test Jarque-Bera zmiennej Valence dla klastra 0: 0.009\n",
      "Test Jarque-Bera zmiennej Valence dla klastra 1: 0.007\n",
      "Test Jarque-Bera zmiennej Valence dla klastra 2: 0.25\n",
      "Test Jarque-Bera zmiennej Valence dla klastra 3: 0.006\n",
      "Test Jarque-Bera zmiennej Valence dla klastra 4: 0.267\n"
     ]
    }
   ],
   "source": [
    "#za pomocą testów\n",
    "for y in ['Danceability','Energy','Loudness','Speechiness','Acousticness','Liveness','Tempo','Duration (ms)','Valence']:\n",
    "    for x, cluster in enumerate([df_0[y], df_1[y], df_2[y], df_3[y], df_4[y]]):\n",
    "        print(f\"Test Jarque-Bera zmiennej {y} dla klastra {x}: {stats.jarque_bera(cluster)[1].round(3)}\")\n"
   ]
  },
  {
   "cell_type": "code",
   "execution_count": 212,
   "id": "c727b7a3-fd3d-43ce-b087-022ab9fa145f",
   "metadata": {},
   "outputs": [
    {
     "name": "stdout",
     "output_type": "stream",
     "text": [
      "P-value w teśćie Barletta zmiennej Danceability:0.0\n",
      "P-value w teśćie Barletta zmiennej Energy:0.062\n",
      "P-value w teśćie Barletta zmiennej Loudness:0.0\n",
      "P-value w teśćie Barletta zmiennej Speechiness:0.0\n",
      "P-value w teśćie Barletta zmiennej Acousticness:0.018\n",
      "P-value w teśćie Barletta zmiennej Liveness:0.0\n",
      "P-value w teśćie Barletta zmiennej Tempo:0.133\n",
      "P-value w teśćie Barletta zmiennej Duration (ms):0.0\n",
      "P-value w teśćie Barletta zmiennej Valence:0.0\n"
     ]
    }
   ],
   "source": [
    "for y in ['Danceability','Energy','Loudness','Speechiness','Acousticness','Liveness','Tempo','Duration (ms)','Valence']:\n",
    "    print(f\"P-value w teśćie Barletta zmiennej {y}:{stats.bartlett(df_0[y], df_1[y], df_2[y], df_3[y], df_4[y])[1].round(3)}\")"
   ]
  },
  {
   "cell_type": "code",
   "execution_count": 213,
   "id": "2c5e6bcc-ee5d-401d-af84-5d3b85f75a82",
   "metadata": {},
   "outputs": [],
   "source": [
    "#brak normalność rozkładu we wszystkich podgrupach oraz brak równości wariancji we wszystkich podgrupach"
   ]
  },
  {
   "cell_type": "markdown",
   "id": "7b184f4e-2694-4860-a818-371291d95515",
   "metadata": {},
   "source": [
    "TEST Kruskala-Wallisa - nieparametryczna alternatywa testu ANOVA"
   ]
  },
  {
   "cell_type": "code",
   "execution_count": 214,
   "id": "e5fd3920-0eee-4197-8a67-ea74fbd6f60d",
   "metadata": {},
   "outputs": [],
   "source": [
    "# H0: Mediana we wszystkich podgrupach jest równa"
   ]
  },
  {
   "cell_type": "code",
   "execution_count": 215,
   "id": "eb99086f-af10-433f-bd4a-924c143a9a55",
   "metadata": {},
   "outputs": [
    {
     "name": "stdout",
     "output_type": "stream",
     "text": [
      "P-value w teście Kruskala-Wallisa zmiennej Streams:0.01\n",
      "P-value w teście Kruskala-Wallisa zmiennej Danceability:0.0\n",
      "P-value w teście Kruskala-Wallisa zmiennej Energy:0.0\n",
      "P-value w teście Kruskala-Wallisa zmiennej Loudness:0.0\n",
      "P-value w teście Kruskala-Wallisa zmiennej Speechiness:0.0\n",
      "P-value w teście Kruskala-Wallisa zmiennej Acousticness:0.0\n",
      "P-value w teście Kruskala-Wallisa zmiennej Liveness:0.0\n",
      "P-value w teście Kruskala-Wallisa zmiennej Tempo:0.0\n",
      "P-value w teście Kruskala-Wallisa zmiennej Duration (ms):0.0\n",
      "P-value w teście Kruskala-Wallisa zmiennej Valence:0.0\n"
     ]
    }
   ],
   "source": [
    "for y in ['Streams','Danceability','Energy','Loudness','Speechiness','Acousticness','Liveness','Tempo','Duration (ms)','Valence']:\n",
    "    print(f\"P-value w teście Kruskala-Wallisa zmiennej {y}:{stats.kruskal(df_0[y], df_1[y], df_2[y], df_3[y], df_4[y])[1].round(3)}\")"
   ]
  },
  {
   "cell_type": "code",
   "execution_count": 216,
   "id": "aa4bd749-b473-4e20-9033-487c1f2525e9",
   "metadata": {},
   "outputs": [],
   "source": [
    "# Wnioskowanie z testu Kruskala-Wallisa po wprowadzeniu korekty Bonferonniego przedstawione jest poniżej"
   ]
  },
  {
   "cell_type": "markdown",
   "id": "c09b5a6b-2b1e-4d8e-984f-cb353aeb1166",
   "metadata": {},
   "source": [
    "## Korekta Bonferonniego"
   ]
  },
  {
   "cell_type": "markdown",
   "id": "64eeeb3a-169b-42e4-90a2-c933df288d6b",
   "metadata": {},
   "source": [
    "Korekta Bonferonniego - raczej konseratywny test, aby kontrolować błąd I rodzaju i zniwelować ryzyko wypływające z wielokrotnych porównań"
   ]
  },
  {
   "cell_type": "code",
   "execution_count": 217,
   "id": "756a435d-9192-4e28-9537-ed7080d465ec",
   "metadata": {
    "tags": []
   },
   "outputs": [],
   "source": [
    "from itertools import combinations\n",
    "alfa= 0.05\n",
    "columns = ['df1', 'df2', 'df3', 'df4', 'df0']\n",
    "num_comparisons = len(list(combinations(columns, 2)))  # Calculate number of comparisons\n",
    "bonferroni_alpha = alfa / num_comparisons  # Adjust alpha for Bonferroni correction\n",
    "sidak_alpha = 1 -(1- alfa)**(1/num_comparisons) # Adjust alpha for Sidak correction"
   ]
  },
  {
   "cell_type": "code",
   "execution_count": 218,
   "id": "5ff271f7-ea81-4d93-8833-62f0bb2f0f15",
   "metadata": {
    "tags": []
   },
   "outputs": [
    {
     "data": {
      "text/plain": [
       "10"
      ]
     },
     "execution_count": 218,
     "metadata": {},
     "output_type": "execute_result"
    }
   ],
   "source": [
    "num_comparisons"
   ]
  },
  {
   "cell_type": "code",
   "execution_count": 219,
   "id": "cbf03cae-cba9-4e2f-b38b-2b104540737a",
   "metadata": {
    "tags": []
   },
   "outputs": [
    {
     "data": {
      "text/plain": [
       "0.005"
      ]
     },
     "execution_count": 219,
     "metadata": {},
     "output_type": "execute_result"
    }
   ],
   "source": [
    "bonferroni_alpha"
   ]
  },
  {
   "cell_type": "markdown",
   "id": "ee17dcc0-926e-472a-928c-8070ca32acfa",
   "metadata": {},
   "source": [
    "**Wnioski z testu Kruskala-Wallisa po wprowadzeniu korekty Bonferonniego:**\n",
    "<br> W przypadku cech utworów wszędzie odrzucono H0, mediana nie jest równa we wszystkich podgrupach, czyli **DLA ŻADNEJ CHARAKTERYSTYKI UTWORU MEDIANA NIE JEST RÓWNA WE WSZYSTKICH GRUPACH**. Jedynie dla zmiennej Streams przyjęcie H0, **jedynie mediana zmiennej Streams jest równa we wszystkich podgrupach**"
   ]
  },
  {
   "cell_type": "markdown",
   "id": "f89549b2-77c1-43ba-856b-655d0d58f569",
   "metadata": {},
   "source": [
    "## Testowanie parami"
   ]
  },
  {
   "cell_type": "markdown",
   "id": "5049bd08-c62c-4ae9-a2ea-f2514c6b5771",
   "metadata": {},
   "source": [
    "PROCEDURA TUKEY'A - nie możemy zastosować, ponieważ nie występuje równości wariancji w podgrupach"
   ]
  },
  {
   "cell_type": "markdown",
   "id": "a4f11ae9-0be2-40c4-9024-d6049e8bdbb6",
   "metadata": {},
   "source": [
    "TEST RANG WILCOXONA - nie stosowany ponieważ w wymagany jest ten sam rozmiar zbiorów"
   ]
  },
  {
   "cell_type": "markdown",
   "id": "bc5df51b-665b-4415-9ec6-8e17eeba2414",
   "metadata": {},
   "source": [
    "finalnie zdecydowano się na zastosowanie **testu Manna-Whitney'a**"
   ]
  },
  {
   "cell_type": "markdown",
   "id": "e4ce448b-fd0f-400e-bdb8-69b9f735b249",
   "metadata": {},
   "source": [
    "**TEST MANNA-WHITNEY'A**"
   ]
  },
  {
   "cell_type": "code",
   "execution_count": 220,
   "id": "fa59c092-5233-4bf7-b562-3d219824d559",
   "metadata": {},
   "outputs": [],
   "source": [
    "#H0: dystrybuanty (rozkłady) obu grup są równe, co oznacza że nie ma różnic między nimi\n",
    "# https://www.ibm.com/docs/pl/spss-statistics/beta?topic=tests-mann-whitney-u-test\n",
    "# https://www.naukowiec.org/wiedza/statystyka/test-u-manna-whitneya_755.html"
   ]
  },
  {
   "cell_type": "code",
   "execution_count": 221,
   "id": "7654f884-e99d-4ff1-9f9d-4ab28f9fe4ab",
   "metadata": {},
   "outputs": [],
   "source": [
    "groups = [df_0, df_1, df_2, df_3, df_4]\n",
    "variables = ['Danceability', 'Energy', 'Loudness', 'Speechiness', 'Acousticness', 'Liveness', 'Tempo', 'Duration (ms)', 'Valence']"
   ]
  },
  {
   "cell_type": "code",
   "execution_count": 222,
   "id": "78b6b54d-a688-4a54-8a46-c92dbfb6853c",
   "metadata": {},
   "outputs": [
    {
     "name": "stdout",
     "output_type": "stream",
     "text": [
      "\n",
      "Porównywanie grup 0 i 1:\n",
      "P- value dla zmiennej Danceability wynosi 0.0000\n",
      "P- value dla zmiennej Energy wynosi 0.0000\n",
      "P- value dla zmiennej Loudness wynosi 0.0000\n",
      "P- value dla zmiennej Speechiness wynosi 0.0001\n",
      "P- value dla zmiennej Acousticness wynosi 0.8146\n",
      "P- value dla zmiennej Liveness wynosi 0.3605\n",
      "P- value dla zmiennej Tempo wynosi 0.1483\n",
      "P- value dla zmiennej Duration (ms) wynosi 0.0051\n",
      "P- value dla zmiennej Valence wynosi 0.0000\n",
      "\n",
      "Porównywanie grup 0 i 2:\n",
      "P- value dla zmiennej Danceability wynosi 0.0000\n",
      "P- value dla zmiennej Energy wynosi 0.7061\n",
      "P- value dla zmiennej Loudness wynosi 0.2128\n",
      "P- value dla zmiennej Speechiness wynosi 0.0000\n",
      "P- value dla zmiennej Acousticness wynosi 0.6087\n",
      "P- value dla zmiennej Liveness wynosi 0.6507\n",
      "P- value dla zmiennej Tempo wynosi 0.0072\n",
      "P- value dla zmiennej Duration (ms) wynosi 0.0000\n",
      "P- value dla zmiennej Valence wynosi 0.0000\n",
      "\n",
      "Porównywanie grup 0 i 3:\n",
      "P- value dla zmiennej Danceability wynosi 0.0000\n",
      "P- value dla zmiennej Energy wynosi 0.0000\n",
      "P- value dla zmiennej Loudness wynosi 0.0000\n",
      "P- value dla zmiennej Speechiness wynosi 0.0000\n",
      "P- value dla zmiennej Acousticness wynosi 0.0000\n",
      "P- value dla zmiennej Liveness wynosi 0.1524\n",
      "P- value dla zmiennej Tempo wynosi 0.0016\n",
      "P- value dla zmiennej Duration (ms) wynosi 0.4088\n",
      "P- value dla zmiennej Valence wynosi 0.0516\n",
      "\n",
      "Porównywanie grup 0 i 4:\n",
      "P- value dla zmiennej Danceability wynosi 0.7082\n",
      "P- value dla zmiennej Energy wynosi 0.0000\n",
      "P- value dla zmiennej Loudness wynosi 0.0000\n",
      "P- value dla zmiennej Speechiness wynosi 0.0000\n",
      "P- value dla zmiennej Acousticness wynosi 0.1604\n",
      "P- value dla zmiennej Liveness wynosi 0.0000\n",
      "P- value dla zmiennej Tempo wynosi 0.7079\n",
      "P- value dla zmiennej Duration (ms) wynosi 0.5932\n",
      "P- value dla zmiennej Valence wynosi 0.0000\n",
      "\n",
      "Porównywanie grup 1 i 2:\n",
      "P- value dla zmiennej Danceability wynosi 0.0000\n",
      "P- value dla zmiennej Energy wynosi 0.0000\n",
      "P- value dla zmiennej Loudness wynosi 0.0000\n",
      "P- value dla zmiennej Speechiness wynosi 0.0000\n",
      "P- value dla zmiennej Acousticness wynosi 0.4508\n",
      "P- value dla zmiennej Liveness wynosi 0.7898\n",
      "P- value dla zmiennej Tempo wynosi 0.0000\n",
      "P- value dla zmiennej Duration (ms) wynosi 0.0011\n",
      "P- value dla zmiennej Valence wynosi 0.0000\n",
      "\n",
      "Porównywanie grup 1 i 3:\n",
      "P- value dla zmiennej Danceability wynosi 0.0000\n",
      "P- value dla zmiennej Energy wynosi 0.0000\n",
      "P- value dla zmiennej Loudness wynosi 0.0000\n",
      "P- value dla zmiennej Speechiness wynosi 0.0000\n",
      "P- value dla zmiennej Acousticness wynosi 0.0000\n",
      "P- value dla zmiennej Liveness wynosi 0.6688\n",
      "P- value dla zmiennej Tempo wynosi 0.0256\n",
      "P- value dla zmiennej Duration (ms) wynosi 0.3043\n",
      "P- value dla zmiennej Valence wynosi 0.0000\n",
      "\n",
      "Porównywanie grup 1 i 4:\n",
      "P- value dla zmiennej Danceability wynosi 0.0000\n",
      "P- value dla zmiennej Energy wynosi 0.9693\n",
      "P- value dla zmiennej Loudness wynosi 0.0253\n",
      "P- value dla zmiennej Speechiness wynosi 0.0001\n",
      "P- value dla zmiennej Acousticness wynosi 0.2211\n",
      "P- value dla zmiennej Liveness wynosi 0.0000\n",
      "P- value dla zmiennej Tempo wynosi 0.5655\n",
      "P- value dla zmiennej Duration (ms) wynosi 0.3554\n",
      "P- value dla zmiennej Valence wynosi 0.0000\n",
      "\n",
      "Porównywanie grup 2 i 3:\n",
      "P- value dla zmiennej Danceability wynosi 0.0000\n",
      "P- value dla zmiennej Energy wynosi 0.0000\n",
      "P- value dla zmiennej Loudness wynosi 0.0000\n",
      "P- value dla zmiennej Speechiness wynosi 0.0000\n",
      "P- value dla zmiennej Acousticness wynosi 0.0000\n",
      "P- value dla zmiennej Liveness wynosi 0.3865\n",
      "P- value dla zmiennej Tempo wynosi 0.0000\n",
      "P- value dla zmiennej Duration (ms) wynosi 0.0022\n",
      "P- value dla zmiennej Valence wynosi 0.0000\n",
      "\n",
      "Porównywanie grup 2 i 4:\n",
      "P- value dla zmiennej Danceability wynosi 0.0000\n",
      "P- value dla zmiennej Energy wynosi 0.0000\n",
      "P- value dla zmiennej Loudness wynosi 0.0000\n",
      "P- value dla zmiennej Speechiness wynosi 0.0000\n",
      "P- value dla zmiennej Acousticness wynosi 0.0848\n",
      "P- value dla zmiennej Liveness wynosi 0.0000\n",
      "P- value dla zmiennej Tempo wynosi 0.0240\n",
      "P- value dla zmiennej Duration (ms) wynosi 0.0107\n",
      "P- value dla zmiennej Valence wynosi 0.3485\n",
      "\n",
      "Porównywanie grup 3 i 4:\n",
      "P- value dla zmiennej Danceability wynosi 0.0000\n",
      "P- value dla zmiennej Energy wynosi 0.0000\n",
      "P- value dla zmiennej Loudness wynosi 0.0000\n",
      "P- value dla zmiennej Speechiness wynosi 0.0000\n",
      "P- value dla zmiennej Acousticness wynosi 0.0000\n",
      "P- value dla zmiennej Liveness wynosi 0.0000\n",
      "P- value dla zmiennej Tempo wynosi 0.0867\n",
      "P- value dla zmiennej Duration (ms) wynosi 0.9349\n",
      "P- value dla zmiennej Valence wynosi 0.0000\n"
     ]
    }
   ],
   "source": [
    "for i in range(len(groups)-1):\n",
    "    for j in range(i+1, len(groups)):\n",
    "        group1 = groups[i]\n",
    "        group2 = groups[j]\n",
    "        \n",
    "        print(f\"\\nPorównywanie grup {i} i {j}:\")\n",
    "\n",
    "        for variable in variables:\n",
    "            stat, p_value = stats.mannwhitneyu(group1[variable], group2[variable])\n",
    "            print(f\"P- value dla zmiennej {variable} wynosi {p_value:.4f}\")"
   ]
  },
  {
   "cell_type": "code",
   "execution_count": 223,
   "id": "4cc84b87-d442-4128-8f1d-e0c43308b71c",
   "metadata": {},
   "outputs": [],
   "source": [
    "#czy te wspólne wartości są w jakiś sposób charakterystyczne?"
   ]
  },
  {
   "cell_type": "code",
   "execution_count": 224,
   "id": "cce5cf7d-92c7-4103-98be-6a649ac32ad0",
   "metadata": {},
   "outputs": [],
   "source": [
    "columns_to_display = ['Danceability', 'Energy', 'Loudness', 'Speechiness', 'Acousticness', 'Liveness', 'Tempo', 'Duration (ms)', 'Valence', 'KMean_group']"
   ]
  },
  {
   "cell_type": "code",
   "execution_count": 225,
   "id": "68637bce-ed62-492b-91ca-80bf1e076c22",
   "metadata": {},
   "outputs": [
    {
     "data": {
      "text/html": [
       "<style type=\"text/css\">\n",
       "#T_6dd36_row0_col0, #T_6dd36_row4_col3 {\n",
       "  background-color: #9cb9d9;\n",
       "  color: #000000;\n",
       "}\n",
       "#T_6dd36_row0_col1 {\n",
       "  background-color: #197db7;\n",
       "  color: #f1f1f1;\n",
       "}\n",
       "#T_6dd36_row0_col2 {\n",
       "  background-color: #0a73b2;\n",
       "  color: #f1f1f1;\n",
       "}\n",
       "#T_6dd36_row0_col3 {\n",
       "  background-color: #faf2f8;\n",
       "  color: #000000;\n",
       "}\n",
       "#T_6dd36_row0_col4, #T_6dd36_row2_col5 {\n",
       "  background-color: #fdf5fa;\n",
       "  color: #000000;\n",
       "}\n",
       "#T_6dd36_row0_col5 {\n",
       "  background-color: #fef6fb;\n",
       "  color: #000000;\n",
       "}\n",
       "#T_6dd36_row0_col6 {\n",
       "  background-color: #4a98c5;\n",
       "  color: #f1f1f1;\n",
       "}\n",
       "#T_6dd36_row0_col7, #T_6dd36_row1_col1, #T_6dd36_row1_col2, #T_6dd36_row1_col8, #T_6dd36_row2_col0, #T_6dd36_row2_col3, #T_6dd36_row2_col6, #T_6dd36_row3_col4, #T_6dd36_row4_col5 {\n",
       "  background-color: #023858;\n",
       "  color: #f1f1f1;\n",
       "}\n",
       "#T_6dd36_row0_col8, #T_6dd36_row2_col4, #T_6dd36_row2_col7, #T_6dd36_row3_col0, #T_6dd36_row3_col1, #T_6dd36_row3_col2, #T_6dd36_row3_col3, #T_6dd36_row3_col5, #T_6dd36_row3_col6 {\n",
       "  background-color: #fff7fb;\n",
       "  color: #000000;\n",
       "}\n",
       "#T_6dd36_row1_col0 {\n",
       "  background-color: #045687;\n",
       "  color: #f1f1f1;\n",
       "}\n",
       "#T_6dd36_row1_col3 {\n",
       "  background-color: #f2ecf5;\n",
       "  color: #000000;\n",
       "}\n",
       "#T_6dd36_row1_col4, #T_6dd36_row1_col5 {\n",
       "  background-color: #fbf4f9;\n",
       "  color: #000000;\n",
       "}\n",
       "#T_6dd36_row1_col6 {\n",
       "  background-color: #a2bcda;\n",
       "  color: #000000;\n",
       "}\n",
       "#T_6dd36_row1_col7 {\n",
       "  background-color: #4c99c5;\n",
       "  color: #f1f1f1;\n",
       "}\n",
       "#T_6dd36_row2_col1 {\n",
       "  background-color: #2182b9;\n",
       "  color: #f1f1f1;\n",
       "}\n",
       "#T_6dd36_row2_col2 {\n",
       "  background-color: #1379b5;\n",
       "  color: #f1f1f1;\n",
       "}\n",
       "#T_6dd36_row2_col8 {\n",
       "  background-color: #6fa7ce;\n",
       "  color: #f1f1f1;\n",
       "}\n",
       "#T_6dd36_row3_col7 {\n",
       "  background-color: #187cb6;\n",
       "  color: #f1f1f1;\n",
       "}\n",
       "#T_6dd36_row3_col8 {\n",
       "  background-color: #ece7f2;\n",
       "  color: #000000;\n",
       "}\n",
       "#T_6dd36_row4_col0 {\n",
       "  background-color: #abbfdc;\n",
       "  color: #000000;\n",
       "}\n",
       "#T_6dd36_row4_col1 {\n",
       "  background-color: #023b5d;\n",
       "  color: #f1f1f1;\n",
       "}\n",
       "#T_6dd36_row4_col2 {\n",
       "  background-color: #04598c;\n",
       "  color: #f1f1f1;\n",
       "}\n",
       "#T_6dd36_row4_col4 {\n",
       "  background-color: #f1ebf5;\n",
       "  color: #000000;\n",
       "}\n",
       "#T_6dd36_row4_col6 {\n",
       "  background-color: #89b1d4;\n",
       "  color: #000000;\n",
       "}\n",
       "#T_6dd36_row4_col7 {\n",
       "  background-color: #03446a;\n",
       "  color: #f1f1f1;\n",
       "}\n",
       "#T_6dd36_row4_col8 {\n",
       "  background-color: #80aed2;\n",
       "  color: #f1f1f1;\n",
       "}\n",
       "</style>\n",
       "<table id=\"T_6dd36\">\n",
       "  <thead>\n",
       "    <tr>\n",
       "      <th class=\"blank level0\" >&nbsp;</th>\n",
       "      <th id=\"T_6dd36_level0_col0\" class=\"col_heading level0 col0\" >Danceability</th>\n",
       "      <th id=\"T_6dd36_level0_col1\" class=\"col_heading level0 col1\" >Energy</th>\n",
       "      <th id=\"T_6dd36_level0_col2\" class=\"col_heading level0 col2\" >Loudness</th>\n",
       "      <th id=\"T_6dd36_level0_col3\" class=\"col_heading level0 col3\" >Speechiness</th>\n",
       "      <th id=\"T_6dd36_level0_col4\" class=\"col_heading level0 col4\" >Acousticness</th>\n",
       "      <th id=\"T_6dd36_level0_col5\" class=\"col_heading level0 col5\" >Liveness</th>\n",
       "      <th id=\"T_6dd36_level0_col6\" class=\"col_heading level0 col6\" >Tempo</th>\n",
       "      <th id=\"T_6dd36_level0_col7\" class=\"col_heading level0 col7\" >Duration (ms)</th>\n",
       "      <th id=\"T_6dd36_level0_col8\" class=\"col_heading level0 col8\" >Valence</th>\n",
       "    </tr>\n",
       "    <tr>\n",
       "      <th class=\"index_name level0\" >KMean_group</th>\n",
       "      <th class=\"blank col0\" >&nbsp;</th>\n",
       "      <th class=\"blank col1\" >&nbsp;</th>\n",
       "      <th class=\"blank col2\" >&nbsp;</th>\n",
       "      <th class=\"blank col3\" >&nbsp;</th>\n",
       "      <th class=\"blank col4\" >&nbsp;</th>\n",
       "      <th class=\"blank col5\" >&nbsp;</th>\n",
       "      <th class=\"blank col6\" >&nbsp;</th>\n",
       "      <th class=\"blank col7\" >&nbsp;</th>\n",
       "      <th class=\"blank col8\" >&nbsp;</th>\n",
       "    </tr>\n",
       "  </thead>\n",
       "  <tbody>\n",
       "    <tr>\n",
       "      <th id=\"T_6dd36_level0_row0\" class=\"row_heading level0 row0\" >0</th>\n",
       "      <td id=\"T_6dd36_row0_col0\" class=\"data row0 col0\" >0.636679</td>\n",
       "      <td id=\"T_6dd36_row0_col1\" class=\"data row0 col1\" >0.623115</td>\n",
       "      <td id=\"T_6dd36_row0_col2\" class=\"data row0 col2\" >-6.352115</td>\n",
       "      <td id=\"T_6dd36_row0_col3\" class=\"data row0 col3\" >0.072055</td>\n",
       "      <td id=\"T_6dd36_row0_col4\" class=\"data row0 col4\" >0.176884</td>\n",
       "      <td id=\"T_6dd36_row0_col5\" class=\"data row0 col5\" >0.150363</td>\n",
       "      <td id=\"T_6dd36_row0_col6\" class=\"data row0 col6\" >123.793789</td>\n",
       "      <td id=\"T_6dd36_row0_col7\" class=\"data row0 col7\" >204487.556355</td>\n",
       "      <td id=\"T_6dd36_row0_col8\" class=\"data row0 col8\" >0.330218</td>\n",
       "    </tr>\n",
       "    <tr>\n",
       "      <th id=\"T_6dd36_level0_row1\" class=\"row_heading level0 row1\" >1</th>\n",
       "      <td id=\"T_6dd36_row1_col0\" class=\"data row1 col0\" >0.747095</td>\n",
       "      <td id=\"T_6dd36_row1_col1\" class=\"data row1 col1\" >0.729822</td>\n",
       "      <td id=\"T_6dd36_row1_col2\" class=\"data row1 col2\" >-5.007342</td>\n",
       "      <td id=\"T_6dd36_row1_col3\" class=\"data row1 col3\" >0.083738</td>\n",
       "      <td id=\"T_6dd36_row1_col4\" class=\"data row1 col4\" >0.181886</td>\n",
       "      <td id=\"T_6dd36_row1_col5\" class=\"data row1 col5\" >0.158536</td>\n",
       "      <td id=\"T_6dd36_row1_col6\" class=\"data row1 col6\" >120.945440</td>\n",
       "      <td id=\"T_6dd36_row1_col7\" class=\"data row1 col7\" >197397.000000</td>\n",
       "      <td id=\"T_6dd36_row1_col8\" class=\"data row1 col8\" >0.706949</td>\n",
       "    </tr>\n",
       "    <tr>\n",
       "      <th id=\"T_6dd36_level0_row2\" class=\"row_heading level0 row2\" >2</th>\n",
       "      <td id=\"T_6dd36_row2_col0\" class=\"data row2 col0\" >0.771945</td>\n",
       "      <td id=\"T_6dd36_row2_col1\" class=\"data row2 col1\" >0.616472</td>\n",
       "      <td id=\"T_6dd36_row2_col2\" class=\"data row2 col2\" >-6.479883</td>\n",
       "      <td id=\"T_6dd36_row2_col3\" class=\"data row2 col3\" >0.289487</td>\n",
       "      <td id=\"T_6dd36_row2_col4\" class=\"data row2 col4\" >0.167628</td>\n",
       "      <td id=\"T_6dd36_row2_col5\" class=\"data row2 col5\" >0.153305</td>\n",
       "      <td id=\"T_6dd36_row2_col6\" class=\"data row2 col6\" >129.727191</td>\n",
       "      <td id=\"T_6dd36_row2_col7\" class=\"data row2 col7\" >187577.715210</td>\n",
       "      <td id=\"T_6dd36_row2_col8\" class=\"data row2 col8\" >0.522651</td>\n",
       "    </tr>\n",
       "    <tr>\n",
       "      <th id=\"T_6dd36_level0_row3\" class=\"row_heading level0 row3\" >3</th>\n",
       "      <td id=\"T_6dd36_row3_col0\" class=\"data row3 col0\" >0.546928</td>\n",
       "      <td id=\"T_6dd36_row3_col1\" class=\"data row3 col1\" >0.377333</td>\n",
       "      <td id=\"T_6dd36_row3_col2\" class=\"data row3 col2\" >-10.106944</td>\n",
       "      <td id=\"T_6dd36_row3_col3\" class=\"data row3 col3\" >0.064101</td>\n",
       "      <td id=\"T_6dd36_row3_col4\" class=\"data row3 col4\" >0.726759</td>\n",
       "      <td id=\"T_6dd36_row3_col5\" class=\"data row3 col5\" >0.147536</td>\n",
       "      <td id=\"T_6dd36_row3_col6\" class=\"data row3 col6\" >115.457503</td>\n",
       "      <td id=\"T_6dd36_row3_col7\" class=\"data row3 col7\" >199438.666667</td>\n",
       "      <td id=\"T_6dd36_row3_col8\" class=\"data row3 col8\" >0.377955</td>\n",
       "    </tr>\n",
       "    <tr>\n",
       "      <th id=\"T_6dd36_level0_row4\" class=\"row_heading level0 row4\" >4</th>\n",
       "      <td id=\"T_6dd36_row4_col0\" class=\"data row4 col0\" >0.628226</td>\n",
       "      <td id=\"T_6dd36_row4_col1\" class=\"data row4 col1\" >0.725495</td>\n",
       "      <td id=\"T_6dd36_row4_col2\" class=\"data row4 col2\" >-5.636624</td>\n",
       "      <td id=\"T_6dd36_row4_col3\" class=\"data row4 col3\" >0.154198</td>\n",
       "      <td id=\"T_6dd36_row4_col4\" class=\"data row4 col4\" >0.218322</td>\n",
       "      <td id=\"T_6dd36_row4_col5\" class=\"data row4 col5\" >0.612129</td>\n",
       "      <td id=\"T_6dd36_row4_col6\" class=\"data row4 col6\" >121.848516</td>\n",
       "      <td id=\"T_6dd36_row4_col7\" class=\"data row4 col7\" >203754.462366</td>\n",
       "      <td id=\"T_6dd36_row4_col8\" class=\"data row4 col8\" >0.507742</td>\n",
       "    </tr>\n",
       "  </tbody>\n",
       "</table>\n"
      ],
      "text/plain": [
       "<pandas.io.formats.style.Styler at 0x1eb03539c10>"
      ]
     },
     "execution_count": 225,
     "metadata": {},
     "output_type": "execute_result"
    }
   ],
   "source": [
    "df_all[columns_to_display].groupby('KMean_group').mean(numeric_only=True).style.background_gradient()"
   ]
  },
  {
   "cell_type": "code",
   "execution_count": 226,
   "id": "7a464466-489b-4367-9219-bd8eff68c537",
   "metadata": {},
   "outputs": [
    {
     "data": {
      "text/plain": [
       "Danceability          0.689770\n",
       "Energy                0.633478\n",
       "Loudness             -6.348062\n",
       "Speechiness           0.123549\n",
       "Acousticness          0.248735\n",
       "Liveness              0.181229\n",
       "Tempo               122.834721\n",
       "Duration (ms)    197988.038237\n",
       "Valence               0.514645\n",
       "KMean_group           1.363577\n",
       "dtype: float64"
      ]
     },
     "execution_count": 226,
     "metadata": {},
     "output_type": "execute_result"
    }
   ],
   "source": [
    "df_all[columns_to_display].mean(numeric_only=True)"
   ]
  },
  {
   "cell_type": "code",
   "execution_count": 227,
   "id": "cf41e8a7-b7f8-44bf-89d2-9bf866dd336c",
   "metadata": {},
   "outputs": [
    {
     "data": {
      "text/plain": [
       "KMean_group\n",
       "1    529\n",
       "0    417\n",
       "2    309\n",
       "3    195\n",
       "4     93\n",
       "Name: count, dtype: int64"
      ]
     },
     "execution_count": 227,
     "metadata": {},
     "output_type": "execute_result"
    }
   ],
   "source": [
    "df_all['KMean_group'].value_counts()"
   ]
  },
  {
   "cell_type": "markdown",
   "id": "0f7e9af2-d6e3-4a43-8982-d63025fb9786",
   "metadata": {},
   "source": [
    "**WNIOSKI**"
   ]
  },
  {
   "cell_type": "markdown",
   "id": "de7111cf-0463-470f-85e3-be6e16b16e72",
   "metadata": {},
   "source": [
    "utwory z wysokim duration, utwory długie to ... wszystkich utworów"
   ]
  },
  {
   "cell_type": "code",
   "execution_count": 228,
   "id": "1a37cb57-22ef-4025-90a3-c58ecde66cba",
   "metadata": {},
   "outputs": [
    {
     "data": {
      "text/plain": [
       "45.69021386908619"
      ]
     },
     "execution_count": 228,
     "metadata": {},
     "output_type": "execute_result"
    }
   ],
   "source": [
    "((df_0.shape[0]+df_3.shape[0]+df_4.shape[0])/df_all.shape[0]) * 100"
   ]
  },
  {
   "cell_type": "markdown",
   "id": "6a8c397e-db21-48af-86f4-6f449301da3a",
   "metadata": {},
   "source": [
    "utwory bardzo, bardzo smutne to ... wszystkich utworów (wejdzie zależnie od poziomu istotności)"
   ]
  },
  {
   "cell_type": "code",
   "execution_count": 229,
   "id": "1d50796a-df5b-4569-913f-d065f1ca3080",
   "metadata": {},
   "outputs": [
    {
     "data": {
      "text/plain": [
       "39.66299416720674"
      ]
     },
     "execution_count": 229,
     "metadata": {},
     "output_type": "execute_result"
    }
   ],
   "source": [
    "((df_0.shape[0]+df_3.shape[0])/df_all.shape[0]) * 100"
   ]
  },
  {
   "cell_type": "markdown",
   "id": "48010260-4ec8-4816-a7a2-cfa61cb5c227",
   "metadata": {},
   "source": [
    "utwory bardzo energiczne stanowią .. wszystkich utworów"
   ]
  },
  {
   "cell_type": "code",
   "execution_count": 230,
   "id": "1856fc50-69d5-4d7d-b59b-449342116852",
   "metadata": {},
   "outputs": [
    {
     "data": {
      "text/plain": [
       "40.31108230719378"
      ]
     },
     "execution_count": 230,
     "metadata": {},
     "output_type": "execute_result"
    }
   ],
   "source": [
    "((df_1.shape[0]+df_4.shape[0])/df_all.shape[0]) * 100"
   ]
  },
  {
   "cell_type": "markdown",
   "id": "2f68adeb-835b-44e5-b28d-1a2702e89c8a",
   "metadata": {},
   "source": [
    "utwory bardzo bardzo pozytywne stanowią .. wszystkich utworów - to tylko klaster 1"
   ]
  },
  {
   "cell_type": "code",
   "execution_count": 231,
   "id": "63734a1e-b632-4e59-9e4f-b06496173d3b",
   "metadata": {},
   "outputs": [
    {
     "data": {
      "text/plain": [
       "34.283862605314326"
      ]
     },
     "execution_count": 231,
     "metadata": {},
     "output_type": "execute_result"
    }
   ],
   "source": [
    "((df_1.shape[0])/df_all.shape[0]) * 100"
   ]
  },
  {
   "cell_type": "markdown",
   "id": "c112fb5d-ab21-42de-9b76-106ab3ea384e",
   "metadata": {},
   "source": [
    "# Zakończenie"
   ]
  },
  {
   "cell_type": "markdown",
   "id": "ab9d3023-48df-4acc-883f-9732d29cbf89",
   "metadata": {},
   "source": [
    "Z finalnymi wnioskami badania zapoznać się można w pliku PDF **\"Spotify_rynek\"** do czego gorąco zachęcam."
   ]
  }
 ],
 "metadata": {
  "kernelspec": {
   "display_name": "Python 3 (ipykernel)",
   "language": "python",
   "name": "python3"
  },
  "language_info": {
   "codemirror_mode": {
    "name": "ipython",
    "version": 3
   },
   "file_extension": ".py",
   "mimetype": "text/x-python",
   "name": "python",
   "nbconvert_exporter": "python",
   "pygments_lexer": "ipython3",
   "version": "3.11.5"
  }
 },
 "nbformat": 4,
 "nbformat_minor": 5
}
